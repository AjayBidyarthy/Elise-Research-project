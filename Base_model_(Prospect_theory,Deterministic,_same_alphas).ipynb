{
  "cells": [
    {
      "cell_type": "code",
      "execution_count": null,
      "metadata": {
        "id": "rZZen0NHUwMQ",
        "colab": {
          "base_uri": "https://localhost:8080/"
        },
        "outputId": "1c63670b-b2c1-4991-b63c-18de42eca235"
      },
      "outputs": [
        {
          "output_type": "stream",
          "name": "stdout",
          "text": [
            "Requirement already satisfied: xlrd in /usr/local/lib/python3.7/dist-packages (1.1.0)\n",
            "Collecting xlrd\n",
            "  Downloading xlrd-2.0.1-py2.py3-none-any.whl (96 kB)\n",
            "\u001b[?25l\r\u001b[K     |███▍                            | 10 kB 33.2 MB/s eta 0:00:01\r\u001b[K     |██████▉                         | 20 kB 22.4 MB/s eta 0:00:01\r\u001b[K     |██████████▏                     | 30 kB 12.7 MB/s eta 0:00:01\r\u001b[K     |█████████████▋                  | 40 kB 10.3 MB/s eta 0:00:01\r\u001b[K     |█████████████████               | 51 kB 5.8 MB/s eta 0:00:01\r\u001b[K     |████████████████████▍           | 61 kB 6.9 MB/s eta 0:00:01\r\u001b[K     |███████████████████████▊        | 71 kB 7.4 MB/s eta 0:00:01\r\u001b[K     |███████████████████████████▏    | 81 kB 6.9 MB/s eta 0:00:01\r\u001b[K     |██████████████████████████████▌ | 92 kB 7.7 MB/s eta 0:00:01\r\u001b[K     |████████████████████████████████| 96 kB 4.1 MB/s \n",
            "\u001b[?25hInstalling collected packages: xlrd\n",
            "  Attempting uninstall: xlrd\n",
            "    Found existing installation: xlrd 1.1.0\n",
            "    Uninstalling xlrd-1.1.0:\n",
            "      Successfully uninstalled xlrd-1.1.0\n",
            "Successfully installed xlrd-2.0.1\n"
          ]
        }
      ],
      "source": [
        "!pip install --upgrade xlrd"
      ]
    },
    {
      "cell_type": "code",
      "execution_count": null,
      "metadata": {
        "id": "GkpK3vB_8fHw"
      },
      "outputs": [],
      "source": [
        "import pandas as pd\n",
        "import numpy as np\n",
        "import math\n",
        "from scipy.integrate import quad"
      ]
    },
    {
      "cell_type": "code",
      "execution_count": null,
      "metadata": {
        "id": "ibVl0l-G91Vf",
        "colab": {
          "base_uri": "https://localhost:8080/"
        },
        "outputId": "8510d391-2fff-4f75-cade-8b91b27896dc"
      },
      "outputs": [
        {
          "output_type": "stream",
          "name": "stdout",
          "text": [
            "Mounted at /content/drive\n"
          ]
        }
      ],
      "source": [
        "from google.colab import drive\n",
        "drive.mount('/content/drive')"
      ]
    },
    {
      "cell_type": "code",
      "execution_count": null,
      "metadata": {
        "id": "mdLM-F-892Ah",
        "colab": {
          "base_uri": "https://localhost:8080/",
          "height": 423
        },
        "outputId": "c5285349-b5a4-4d9b-84d5-b31d42f6ff56"
      },
      "outputs": [
        {
          "output_type": "execute_result",
          "data": {
            "text/plain": [
              "      0         1         2   3   4   5   6   7         8    9    10  11  12\n",
              "0      1 -0.078605  0.310538   0   0   0   0   0  1.114833  NaN  NaN   0   0\n",
              "1      2  0.313415  0.310538   0   0   0   0   0  0.802123  NaN  NaN   0   0\n",
              "2      3  0.015841  0.310538   0   0   0   0   0  0.571344  NaN  NaN   0   0\n",
              "3      4 -0.136771  0.310538   0   0   0   0   0  0.584050  NaN  NaN   0   0\n",
              "4      5 -0.263482  0.310538   0   0   0   0   0  0.583894  NaN  NaN   0   0\n",
              "..   ...       ...       ...  ..  ..  ..  ..  ..       ...  ...  ...  ..  ..\n",
              "295  296  0.420082       NaN   1   0   0   0  32  0.680410  NaN  NaN   0   0\n",
              "296  297  0.122331       NaN   1   0   0   0  32  0.544408  NaN  NaN   0   0\n",
              "297  298  0.511536       NaN   1   0   0   0  32  0.814773  NaN  NaN   0   0\n",
              "298  299  0.862973       NaN   1   0   0   0  32  0.708579  NaN  NaN   0   0\n",
              "299  300 -3.269232       NaN   1   0   0   0  32  2.121189  1.0  1.0  10   0\n",
              "\n",
              "[300 rows x 13 columns]"
            ],
            "text/html": [
              "\n",
              "  <div id=\"df-8a9410c0-7e49-4e70-90fa-262072b098a4\">\n",
              "    <div class=\"colab-df-container\">\n",
              "      <div>\n",
              "<style scoped>\n",
              "    .dataframe tbody tr th:only-of-type {\n",
              "        vertical-align: middle;\n",
              "    }\n",
              "\n",
              "    .dataframe tbody tr th {\n",
              "        vertical-align: top;\n",
              "    }\n",
              "\n",
              "    .dataframe thead th {\n",
              "        text-align: right;\n",
              "    }\n",
              "</style>\n",
              "<table border=\"1\" class=\"dataframe\">\n",
              "  <thead>\n",
              "    <tr style=\"text-align: right;\">\n",
              "      <th></th>\n",
              "      <th>0</th>\n",
              "      <th>1</th>\n",
              "      <th>2</th>\n",
              "      <th>3</th>\n",
              "      <th>4</th>\n",
              "      <th>5</th>\n",
              "      <th>6</th>\n",
              "      <th>7</th>\n",
              "      <th>8</th>\n",
              "      <th>9</th>\n",
              "      <th>10</th>\n",
              "      <th>11</th>\n",
              "      <th>12</th>\n",
              "    </tr>\n",
              "  </thead>\n",
              "  <tbody>\n",
              "    <tr>\n",
              "      <th>0</th>\n",
              "      <td>1</td>\n",
              "      <td>-0.078605</td>\n",
              "      <td>0.310538</td>\n",
              "      <td>0</td>\n",
              "      <td>0</td>\n",
              "      <td>0</td>\n",
              "      <td>0</td>\n",
              "      <td>0</td>\n",
              "      <td>1.114833</td>\n",
              "      <td>NaN</td>\n",
              "      <td>NaN</td>\n",
              "      <td>0</td>\n",
              "      <td>0</td>\n",
              "    </tr>\n",
              "    <tr>\n",
              "      <th>1</th>\n",
              "      <td>2</td>\n",
              "      <td>0.313415</td>\n",
              "      <td>0.310538</td>\n",
              "      <td>0</td>\n",
              "      <td>0</td>\n",
              "      <td>0</td>\n",
              "      <td>0</td>\n",
              "      <td>0</td>\n",
              "      <td>0.802123</td>\n",
              "      <td>NaN</td>\n",
              "      <td>NaN</td>\n",
              "      <td>0</td>\n",
              "      <td>0</td>\n",
              "    </tr>\n",
              "    <tr>\n",
              "      <th>2</th>\n",
              "      <td>3</td>\n",
              "      <td>0.015841</td>\n",
              "      <td>0.310538</td>\n",
              "      <td>0</td>\n",
              "      <td>0</td>\n",
              "      <td>0</td>\n",
              "      <td>0</td>\n",
              "      <td>0</td>\n",
              "      <td>0.571344</td>\n",
              "      <td>NaN</td>\n",
              "      <td>NaN</td>\n",
              "      <td>0</td>\n",
              "      <td>0</td>\n",
              "    </tr>\n",
              "    <tr>\n",
              "      <th>3</th>\n",
              "      <td>4</td>\n",
              "      <td>-0.136771</td>\n",
              "      <td>0.310538</td>\n",
              "      <td>0</td>\n",
              "      <td>0</td>\n",
              "      <td>0</td>\n",
              "      <td>0</td>\n",
              "      <td>0</td>\n",
              "      <td>0.584050</td>\n",
              "      <td>NaN</td>\n",
              "      <td>NaN</td>\n",
              "      <td>0</td>\n",
              "      <td>0</td>\n",
              "    </tr>\n",
              "    <tr>\n",
              "      <th>4</th>\n",
              "      <td>5</td>\n",
              "      <td>-0.263482</td>\n",
              "      <td>0.310538</td>\n",
              "      <td>0</td>\n",
              "      <td>0</td>\n",
              "      <td>0</td>\n",
              "      <td>0</td>\n",
              "      <td>0</td>\n",
              "      <td>0.583894</td>\n",
              "      <td>NaN</td>\n",
              "      <td>NaN</td>\n",
              "      <td>0</td>\n",
              "      <td>0</td>\n",
              "    </tr>\n",
              "    <tr>\n",
              "      <th>...</th>\n",
              "      <td>...</td>\n",
              "      <td>...</td>\n",
              "      <td>...</td>\n",
              "      <td>...</td>\n",
              "      <td>...</td>\n",
              "      <td>...</td>\n",
              "      <td>...</td>\n",
              "      <td>...</td>\n",
              "      <td>...</td>\n",
              "      <td>...</td>\n",
              "      <td>...</td>\n",
              "      <td>...</td>\n",
              "      <td>...</td>\n",
              "    </tr>\n",
              "    <tr>\n",
              "      <th>295</th>\n",
              "      <td>296</td>\n",
              "      <td>0.420082</td>\n",
              "      <td>NaN</td>\n",
              "      <td>1</td>\n",
              "      <td>0</td>\n",
              "      <td>0</td>\n",
              "      <td>0</td>\n",
              "      <td>32</td>\n",
              "      <td>0.680410</td>\n",
              "      <td>NaN</td>\n",
              "      <td>NaN</td>\n",
              "      <td>0</td>\n",
              "      <td>0</td>\n",
              "    </tr>\n",
              "    <tr>\n",
              "      <th>296</th>\n",
              "      <td>297</td>\n",
              "      <td>0.122331</td>\n",
              "      <td>NaN</td>\n",
              "      <td>1</td>\n",
              "      <td>0</td>\n",
              "      <td>0</td>\n",
              "      <td>0</td>\n",
              "      <td>32</td>\n",
              "      <td>0.544408</td>\n",
              "      <td>NaN</td>\n",
              "      <td>NaN</td>\n",
              "      <td>0</td>\n",
              "      <td>0</td>\n",
              "    </tr>\n",
              "    <tr>\n",
              "      <th>297</th>\n",
              "      <td>298</td>\n",
              "      <td>0.511536</td>\n",
              "      <td>NaN</td>\n",
              "      <td>1</td>\n",
              "      <td>0</td>\n",
              "      <td>0</td>\n",
              "      <td>0</td>\n",
              "      <td>32</td>\n",
              "      <td>0.814773</td>\n",
              "      <td>NaN</td>\n",
              "      <td>NaN</td>\n",
              "      <td>0</td>\n",
              "      <td>0</td>\n",
              "    </tr>\n",
              "    <tr>\n",
              "      <th>298</th>\n",
              "      <td>299</td>\n",
              "      <td>0.862973</td>\n",
              "      <td>NaN</td>\n",
              "      <td>1</td>\n",
              "      <td>0</td>\n",
              "      <td>0</td>\n",
              "      <td>0</td>\n",
              "      <td>32</td>\n",
              "      <td>0.708579</td>\n",
              "      <td>NaN</td>\n",
              "      <td>NaN</td>\n",
              "      <td>0</td>\n",
              "      <td>0</td>\n",
              "    </tr>\n",
              "    <tr>\n",
              "      <th>299</th>\n",
              "      <td>300</td>\n",
              "      <td>-3.269232</td>\n",
              "      <td>NaN</td>\n",
              "      <td>1</td>\n",
              "      <td>0</td>\n",
              "      <td>0</td>\n",
              "      <td>0</td>\n",
              "      <td>32</td>\n",
              "      <td>2.121189</td>\n",
              "      <td>1.0</td>\n",
              "      <td>1.0</td>\n",
              "      <td>10</td>\n",
              "      <td>0</td>\n",
              "    </tr>\n",
              "  </tbody>\n",
              "</table>\n",
              "<p>300 rows × 13 columns</p>\n",
              "</div>\n",
              "      <button class=\"colab-df-convert\" onclick=\"convertToInteractive('df-8a9410c0-7e49-4e70-90fa-262072b098a4')\"\n",
              "              title=\"Convert this dataframe to an interactive table.\"\n",
              "              style=\"display:none;\">\n",
              "        \n",
              "  <svg xmlns=\"http://www.w3.org/2000/svg\" height=\"24px\"viewBox=\"0 0 24 24\"\n",
              "       width=\"24px\">\n",
              "    <path d=\"M0 0h24v24H0V0z\" fill=\"none\"/>\n",
              "    <path d=\"M18.56 5.44l.94 2.06.94-2.06 2.06-.94-2.06-.94-.94-2.06-.94 2.06-2.06.94zm-11 1L8.5 8.5l.94-2.06 2.06-.94-2.06-.94L8.5 2.5l-.94 2.06-2.06.94zm10 10l.94 2.06.94-2.06 2.06-.94-2.06-.94-.94-2.06-.94 2.06-2.06.94z\"/><path d=\"M17.41 7.96l-1.37-1.37c-.4-.4-.92-.59-1.43-.59-.52 0-1.04.2-1.43.59L10.3 9.45l-7.72 7.72c-.78.78-.78 2.05 0 2.83L4 21.41c.39.39.9.59 1.41.59.51 0 1.02-.2 1.41-.59l7.78-7.78 2.81-2.81c.8-.78.8-2.07 0-2.86zM5.41 20L4 18.59l7.72-7.72 1.47 1.35L5.41 20z\"/>\n",
              "  </svg>\n",
              "      </button>\n",
              "      \n",
              "  <style>\n",
              "    .colab-df-container {\n",
              "      display:flex;\n",
              "      flex-wrap:wrap;\n",
              "      gap: 12px;\n",
              "    }\n",
              "\n",
              "    .colab-df-convert {\n",
              "      background-color: #E8F0FE;\n",
              "      border: none;\n",
              "      border-radius: 50%;\n",
              "      cursor: pointer;\n",
              "      display: none;\n",
              "      fill: #1967D2;\n",
              "      height: 32px;\n",
              "      padding: 0 0 0 0;\n",
              "      width: 32px;\n",
              "    }\n",
              "\n",
              "    .colab-df-convert:hover {\n",
              "      background-color: #E2EBFA;\n",
              "      box-shadow: 0px 1px 2px rgba(60, 64, 67, 0.3), 0px 1px 3px 1px rgba(60, 64, 67, 0.15);\n",
              "      fill: #174EA6;\n",
              "    }\n",
              "\n",
              "    [theme=dark] .colab-df-convert {\n",
              "      background-color: #3B4455;\n",
              "      fill: #D2E3FC;\n",
              "    }\n",
              "\n",
              "    [theme=dark] .colab-df-convert:hover {\n",
              "      background-color: #434B5C;\n",
              "      box-shadow: 0px 1px 3px 1px rgba(0, 0, 0, 0.15);\n",
              "      filter: drop-shadow(0px 1px 2px rgba(0, 0, 0, 0.3));\n",
              "      fill: #FFFFFF;\n",
              "    }\n",
              "  </style>\n",
              "\n",
              "      <script>\n",
              "        const buttonEl =\n",
              "          document.querySelector('#df-8a9410c0-7e49-4e70-90fa-262072b098a4 button.colab-df-convert');\n",
              "        buttonEl.style.display =\n",
              "          google.colab.kernel.accessAllowed ? 'block' : 'none';\n",
              "\n",
              "        async function convertToInteractive(key) {\n",
              "          const element = document.querySelector('#df-8a9410c0-7e49-4e70-90fa-262072b098a4');\n",
              "          const dataTable =\n",
              "            await google.colab.kernel.invokeFunction('convertToInteractive',\n",
              "                                                     [key], {});\n",
              "          if (!dataTable) return;\n",
              "\n",
              "          const docLinkHtml = 'Like what you see? Visit the ' +\n",
              "            '<a target=\"_blank\" href=https://colab.research.google.com/notebooks/data_table.ipynb>data table notebook</a>'\n",
              "            + ' to learn more about interactive tables.';\n",
              "          element.innerHTML = '';\n",
              "          dataTable['output_type'] = 'display_data';\n",
              "          await google.colab.output.renderOutput(dataTable, element);\n",
              "          const docLink = document.createElement('div');\n",
              "          docLink.innerHTML = docLinkHtml;\n",
              "          element.appendChild(docLink);\n",
              "        }\n",
              "      </script>\n",
              "    </div>\n",
              "  </div>\n",
              "  "
            ]
          },
          "metadata": {},
          "execution_count": 41
        }
      ],
      "source": [
        "df = pd.read_excel(r'/content/drive/MyDrive/Data_BlackKoffer_intern/Penny Pickers_EXPE5/4.xls',sheet_name='results',header=None)\n",
        "df"
      ]
    },
    {
      "cell_type": "code",
      "execution_count": null,
      "metadata": {
        "id": "MDSY56zh97P4"
      },
      "outputs": [],
      "source": [
        "def f1(sigma,t):   # t is the timestamp\n",
        "  result = 1\n",
        "  for k in range(20*math.floor((t-1)/20)+1, t+1):  # we want it to go from start ... t, that's why used t+1                  \n",
        "    i = k-1  # id of data point, since k is id+1 (k is in column no.0 which is id+1)\n",
        "    val = math.exp(-df[1][i]*df[1][i] / (2*sigma*sigma))\n",
        "    val = val / (math.sqrt(2*math.pi)*sigma)\n",
        "    result = result * val\n",
        "  return result"
      ]
    },
    {
      "cell_type": "code",
      "execution_count": null,
      "metadata": {
        "id": "DTUzzrYA-AQm"
      },
      "outputs": [],
      "source": [
        "def f2(t):\n",
        "  result = 1\n",
        "  for k in range(20*math.floor((t-1)/20)+1, t+1):                                   # \n",
        "    i = k-1\n",
        "    val = math.pi*(1 + df[1][i]*df[1][i])\n",
        "    val = 1 / val\n",
        "    result = result * val\n",
        "  return result"
      ]
    },
    {
      "cell_type": "code",
      "execution_count": null,
      "metadata": {
        "id": "urFg5TUj-Cbg"
      },
      "outputs": [],
      "source": [
        "def m1(t):\n",
        "  val = lambda t : quad(f1, 0.1,2, args=(t,))\n",
        "  ans,err = val(t)\n",
        "  return (1/1.9)*ans"
      ]
    },
    {
      "cell_type": "code",
      "execution_count": null,
      "metadata": {
        "id": "rMDLBzFL-Ee1"
      },
      "outputs": [],
      "source": [
        "def m2(t):\n",
        "  return f2(t)"
      ]
    },
    {
      "cell_type": "code",
      "execution_count": null,
      "metadata": {
        "id": "9xY2Xi4N-GQS"
      },
      "outputs": [],
      "source": [
        "Pm1 = 0.5\n",
        "Pm2 = 0.5"
      ]
    },
    {
      "cell_type": "code",
      "execution_count": null,
      "metadata": {
        "id": "uIb1eeAx-IUS"
      },
      "outputs": [],
      "source": [
        "def Pm1Xt(t):\n",
        "  val = Pm1 * m1(t)\n",
        "  val = val / (Pm1*m1(t) + Pm2*m2(t))\n",
        "  return val"
      ]
    },
    {
      "cell_type": "code",
      "execution_count": null,
      "metadata": {
        "id": "RfNp1PTr-KHV"
      },
      "outputs": [],
      "source": [
        "def Pm2Xt(t):\n",
        "  val = Pm2 * m2(t)\n",
        "  val = val / (Pm1*m1(t) + Pm2*m2(t))\n",
        "  return val"
      ]
    },
    {
      "cell_type": "markdown",
      "metadata": {
        "id": "o4-JwONl-PWr"
      },
      "source": [
        "We win 2dollars on winning bet and loss $40 on lossing bet"
      ]
    },
    {
      "cell_type": "code",
      "execution_count": null,
      "metadata": {
        "id": "3DsPYE8L-MPg"
      },
      "outputs": [],
      "source": [
        "def sigmaapprox(t):\n",
        "  start = 20*math.floor((t-1)/20)+1                                                 \n",
        "  end = t\n",
        "  if start==t: \n",
        "    return 0  # no variance if there is only one data point\n",
        "  result = 1 / (end-start+1)\n",
        "  val = 0\n",
        "  for k in range(start,end+1):\n",
        "    i = k-1\n",
        "    val += df[1][i]*df[1][i]\n",
        "  result = result * val\n",
        "  result = math.sqrt(result)\n",
        "  \n",
        "  return result"
      ]
    },
    {
      "cell_type": "code",
      "execution_count": null,
      "metadata": {
        "id": "32b22dKw-Sge"
      },
      "outputs": [],
      "source": [
        "def pg(t):\n",
        "  sigma = sigmaapprox(t)\n",
        "  if sigma==0:   # sigma = 0 means that we do not have any data yet to calculate sigma\n",
        "    return 0.0001  # very little probability of hitting target\n",
        "  def integrand(x):\n",
        "      result = 1 / (sigma*math.sqrt(2*math.pi))\n",
        "      result = result * math.exp(-x*x / (2*sigma*sigma))\n",
        "      return result\n",
        "  phi,err = quad(integrand,-float('inf'),-4)\n",
        "  result = 1 - 2*(phi)\n",
        "  if result>=1: \n",
        "    result = 0.999   # near certain of hitting the target\n",
        "  return result"
      ]
    },
    {
      "cell_type": "code",
      "execution_count": null,
      "metadata": {
        "id": "NvFooHOQ-WHf"
      },
      "outputs": [],
      "source": [
        "def pc():\n",
        "  return 0.844"
      ]
    },
    {
      "cell_type": "code",
      "execution_count": null,
      "metadata": {
        "id": "PU7dT_J--YRH"
      },
      "outputs": [],
      "source": [
        "def compute_expValue(alpha,alpha3,lamda,t):\n",
        "  if t%20==0 or t%20==1: return 0   # t is the first or the last data point of a trial set\n",
        "  \n",
        "  Pg = pg(t)\n",
        "  Pc = pc()\n",
        "  a = np.exp(-(-math.log(Pg))**alpha3)\n",
        "  b = lamda*np.exp(-(-math.log(1-Pg))**alpha3)\n",
        "  c = np.exp(-(-math.log(Pc))**alpha3)\n",
        "  d = lamda*np.exp(-(-math.log(1-Pc))**alpha3)\n",
        "  V = Pm1Xt(t-1)*(a*pow(2,alpha) - b*pow(40,alpha)) + Pm2Xt(t-1)*(c*pow(2,alpha) - d*pow(40,alpha))\n",
        "  return V # expected value"
      ]
    },
    {
      "cell_type": "markdown",
      "metadata": {
        "id": "aaFeOgJ8-bFu"
      },
      "source": [
        "We bet on trial t+1 if and only if Vt > 0 "
      ]
    },
    {
      "cell_type": "code",
      "execution_count": null,
      "metadata": {
        "id": "W93Vy3xj-ZKY"
      },
      "outputs": [],
      "source": [
        "def predict(alpha,alpha3,lamda,starting,ending):\n",
        "  total = 0\n",
        "  plist = []  # list of outcomes (bet or not bet)\n",
        "  expList = []  # list of expected values for each time stamp\n",
        "  for i in range(starting,ending): \n",
        "    # i is the time stamp. \n",
        "    Vt = compute_expValue(alpha,alpha3,lamda,i) # Computing expected value for timestamp i\n",
        "    expList.append(Vt)\n",
        "    if Vt>0:\n",
        "      plist.append(1)\n",
        "      if df[1][i]<=4 and df[1][i]>=-4: # in the dataframe, index of data at time i+1 is i\n",
        "        total+=2 \n",
        "      else: \n",
        "        total-=40\n",
        "    else: plist.append(0)        # adding value for timestamp i+1\n",
        "  return (plist,expList,total)       "
      ]
    },
    {
      "cell_type": "code",
      "execution_count": null,
      "metadata": {
        "id": "lK_8lbSztVYg"
      },
      "outputs": [],
      "source": [
        ""
      ]
    },
    {
      "cell_type": "markdown",
      "metadata": {
        "id": "psvm19zK-jY3"
      },
      "source": [
        "Now we train the model (the parameter DA)"
      ]
    },
    {
      "cell_type": "code",
      "execution_count": null,
      "metadata": {
        "id": "Wxb08rUt-s3M"
      },
      "outputs": [],
      "source": [
        "Y = df[5]"
      ]
    },
    {
      "cell_type": "code",
      "execution_count": null,
      "metadata": {
        "id": "aSt52UlX-qxg"
      },
      "outputs": [],
      "source": [
        "def errorFunc(prediction, Y):  # cost function\n",
        "  total = 0\n",
        "  for i in range(0,160):  \n",
        "    #total += (prediction[i])**2\n",
        "    total += (prediction[i]-Y[i])**2   # mean square loss\n",
        "  total /= 320\n",
        "  return total  "
      ]
    },
    {
      "cell_type": "code",
      "execution_count": null,
      "metadata": {
        "id": "aTIe9RdVRXGt"
      },
      "outputs": [],
      "source": [
        "def derivative_cost_function(alpha,alpha3,lamda):  # gradient of cost function (used in gradient descent)\n",
        "  G_a = 0   # total gradient \n",
        "  G_a3 = 0\n",
        "  G_L = 0\n",
        "  \n",
        "  plist,expList,total = predict(alpha,alpha3,lamda,0,160)\n",
        "  \n",
        "  for i in range(3,160):  \n",
        "    pm1 = Pm1Xt(i-2)\n",
        "    pm2 = Pm2Xt(i-2)\n",
        "    Pg = pg(i-1)\n",
        "    Pc = pc()\n",
        "    \n",
        "    d_a = (pm1*(math.exp(-(-math.log(Pg))**alpha3)*(2)**alpha*math.log(2) - lamda*math.exp(-(-math.log(1-Pg))**alpha3)*40**alpha*math.log(40)) + pm2*(math.exp(-(-math.log(Pc))**alpha3)*(2)**alpha*math.log(2) - lamda*math.exp(-(-math.log(1-Pc))**alpha3)*40**alpha*math.log(40)))/math.log(40)\n",
        "    d_a3 = -(pm1*(-(-math.log(Pg))**alpha3*math.log(-math.log(Pg))*math.exp(-(-math.log(Pg))**alpha3)*(2)**alpha + lamda*(-math.log(1-Pg))**alpha3*math.log(-math.log(1-Pg))*math.exp(-(-math.log(1-Pg))**alpha3)*40**alpha) + pm2*(-(-math.log(Pc))**alpha3*math.log(-math.log(Pc))*math.exp(-(-math.log(Pc))**alpha3)*(2)**alpha + lamda*(-math.log(1-Pc))**alpha3*math.log(-math.log(1-Pc))*math.exp(-(-math.log(1-Pc))**alpha3)*40**alpha))/10\n",
        "    d_L = (pm1*math.exp(-pow(-math.log(1-Pg),alpha3))*40**alpha + pm2*math.exp(-pow(-math.log(1-Pc),alpha3))*40**alpha)\n",
        "\n",
        "    G_a += (expList[i]-Y[i])*d_a\n",
        "    G_a3 += (expList[i]-Y[i])*d_a3\n",
        "    G_L += (expList[i]-Y[i])*d_L\n",
        "    \n",
        "  \n",
        "  G_a /= 160\n",
        "  G_a3 /= 160\n",
        "  G_L /= 160 \n",
        "  \n",
        "  return (G_a,G_a3,G_L)"
      ]
    },
    {
      "cell_type": "markdown",
      "metadata": {
        "id": "jHEUsWO-XOHs"
      },
      "source": [
        "gradient descent"
      ]
    },
    {
      "cell_type": "code",
      "execution_count": null,
      "metadata": {
        "id": "sIr-jV2xXQfA",
        "colab": {
          "base_uri": "https://localhost:8080/"
        },
        "outputId": "38c74b28-659d-4b5a-8c80-d863bbbf582e"
      },
      "outputs": [
        {
          "output_type": "stream",
          "name": "stdout",
          "text": [
            "alpha, alpha3, lamda:  0.9858850190833386 0.998538408567553 1.0147127871149315\n",
            "alpha, alpha3, lamda:  0.9728963294551113 0.9971891458092083 1.0280680363332844\n",
            "alpha, alpha3, lamda:  0.960879226857387 0.995936971963778 1.0402748264870996\n",
            "alpha, alpha3, lamda:  0.9497076809808072 0.9947694534002541 1.0514992218871202\n",
            "alpha, alpha3, lamda:  0.939277880679358 0.9936763336463447 1.0618750093217155\n",
            "alpha, alpha3, lamda:  0.9295034423292606 0.992649065958329 1.071511351105717\n",
            "alpha, alpha3, lamda:  0.9203118099986985 0.991680461773478 1.0804983399493457\n",
            "alpha, alpha3, lamda:  0.9203118099986985 0.991680461773478 1.0804983399493457\n"
          ]
        }
      ],
      "source": [
        "alpha,alpha3,lamda = 1.0,1.0,1.0\n",
        "\n",
        "learning_rate = 0.001  # learning rate\n",
        "i = 0\n",
        "while True:\n",
        "  if i==1000: break\n",
        "  \n",
        "  if i==0:\n",
        "    pre_a,pre_a3,pre_L = alpha,alpha3,lamda\n",
        "    i+=1\n",
        "  else:\n",
        "    G_a,G_a3,G_L = derivative_cost_function(alpha,alpha3,lamda)\n",
        "    alpha = alpha - learning_rate*G_a\n",
        "    alpha3 = alpha3 - learning_rate*G_a3\n",
        "    lamda = lamda - learning_rate*G_L\n",
        "  \n",
        "    if alpha>1: alpha = 1.0\n",
        "    if alpha3>1: alpha3 = 1.0\n",
        "    if lamda<=1: lamda = 1.01\n",
        "    print(\"alpha, alpha3, lamda: \",alpha,alpha3,lamda)\n",
        "    \n",
        "    if abs(alpha-pre_a)<1e-3: break\n",
        "    if abs(alpha3-pre_a3)<1e-3: break\n",
        "    else: pre_a,pre_a3,pre_L = alpha,alpha3,lamda\n",
        "    i+=1    \n",
        "if lamda<=1.01: lamda = 1.01\n",
        "print(\"alpha, alpha3, lamda: \",alpha,alpha3,lamda)    "
      ]
    },
    {
      "cell_type": "markdown",
      "metadata": {
        "id": "11mjqWIBcyY5"
      },
      "source": [
        "Tesing the resulting model on remaining 7 sessions and calculating accuracy score"
      ]
    },
    {
      "cell_type": "code",
      "execution_count": null,
      "metadata": {
        "id": "Xi_V4qPLZ2HA",
        "colab": {
          "base_uri": "https://localhost:8080/"
        },
        "outputId": "319c418f-1c68-4520-f723-59dcde9cbec7"
      },
      "outputs": [
        {
          "output_type": "stream",
          "name": "stdout",
          "text": [
            "140\n",
            "94\n"
          ]
        }
      ],
      "source": [
        "plist,expList,total = predict(alpha,alpha3,lamda,160,300)   # prediction\n",
        "\n",
        "print(len(plist))\n",
        "print(total)"
      ]
    },
    {
      "cell_type": "code",
      "execution_count": null,
      "metadata": {
        "id": "M-2s9IYJdAFQ",
        "colab": {
          "base_uri": "https://localhost:8080/"
        },
        "outputId": "07393bf1-1c06-41bc-e102-9adb416b58e8"
      },
      "outputs": [
        {
          "output_type": "stream",
          "name": "stdout",
          "text": [
            "[0, 0, 0, 1, 1, 1, 1, 1, 1, 1, 1, 1, 1, 1, 1, 1, 1, 1, 1, 1, 0, 0, 0, 0, 0, 0, 0, 1, 1, 0, 0, 0, 0, 0, 0, 1, 1, 1, 1, 1, 0, 0, 0, 0, 0, 1, 1, 1, 1, 1, 1, 1, 1, 1, 1, 1, 1, 1, 1, 1, 0, 0, 1, 1, 1, 1, 1, 1, 1, 1, 1, 1, 1, 1, 1, 1, 1, 1, 1, 1, 0, 0, 0, 0, 0, 0, 0, 0, 0, 0, 0, 0, 0, 0, 0, 0, 0, 0, 0, 0, 0, 0, 0, 0, 1, 1, 1, 1, 1, 0, 0, 0, 0, 0, 0, 0, 0, 0, 0, 0, 0, 0, 0, 0, 0, 1, 1, 0, 0, 0, 0, 0, 1, 1, 1, 1, 0, 0, 0, 0]\n"
          ]
        }
      ],
      "source": [
        "print(plist)"
      ]
    },
    {
      "cell_type": "code",
      "execution_count": null,
      "metadata": {
        "id": "u_lMk7H0dEMb",
        "colab": {
          "base_uri": "https://localhost:8080/"
        },
        "outputId": "6cec98a4-360e-431b-8e16-8b10aff20885"
      },
      "outputs": [
        {
          "output_type": "stream",
          "name": "stdout",
          "text": [
            "The accuracy score of the base model with CbD is:  70.71428571428572 %\n"
          ]
        }
      ],
      "source": [
        "total = 0\n",
        "Y = df[5]\n",
        "\n",
        "for i in range(0,140):  # we will have to change it to (0,160) when the dataset has a length of 320\n",
        "  if (plist[i]==0 and Y[i+160]==0) or (plist[i]==1 and Y[i+160]==1): total+=1\n",
        "print(\"The accuracy score of the base model with CbD is: \",total/140*100,\"%\")   # similarly here 140 -> 160"
      ]
    },
    {
      "cell_type": "code",
      "execution_count": null,
      "metadata": {
        "id": "5ureteTon2rn"
      },
      "outputs": [],
      "source": [
        ""
      ]
    }
  ],
  "metadata": {
    "accelerator": "GPU",
    "colab": {
      "collapsed_sections": [],
      "name": "Base model (Prospect theory,Deterministic, same alphas).ipynb",
      "provenance": []
    },
    "kernelspec": {
      "display_name": "Python 3",
      "name": "python3"
    },
    "language_info": {
      "name": "python"
    }
  },
  "nbformat": 4,
  "nbformat_minor": 0
}