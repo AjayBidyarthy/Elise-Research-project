{
  "nbformat": 4,
  "nbformat_minor": 0,
  "metadata": {
    "colab": {
      "name": "Base model (prospect theory, Deterministic)",
      "provenance": [],
      "collapsed_sections": []
    },
    "kernelspec": {
      "name": "python3",
      "display_name": "Python 3"
    },
    "language_info": {
      "name": "python"
    }
  },
  "cells": [
    {
      "cell_type": "code",
      "source": [
        "!pip install --upgrade xlrd"
      ],
      "metadata": {
        "id": "GcTe7RHQUPh1",
        "colab": {
          "base_uri": "https://localhost:8080/"
        },
        "outputId": "9f6834f8-9e1a-4d32-f8e4-30b2da74db8d"
      },
      "execution_count": null,
      "outputs": [
        {
          "output_type": "stream",
          "name": "stdout",
          "text": [
            "Requirement already satisfied: xlrd in /usr/local/lib/python3.7/dist-packages (1.1.0)\n",
            "Collecting xlrd\n",
            "  Downloading xlrd-2.0.1-py2.py3-none-any.whl (96 kB)\n",
            "\u001b[?25l\r\u001b[K     |███▍                            | 10 kB 20.1 MB/s eta 0:00:01\r\u001b[K     |██████▉                         | 20 kB 27.0 MB/s eta 0:00:01\r\u001b[K     |██████████▏                     | 30 kB 15.2 MB/s eta 0:00:01\r\u001b[K     |█████████████▋                  | 40 kB 6.8 MB/s eta 0:00:01\r\u001b[K     |█████████████████               | 51 kB 5.9 MB/s eta 0:00:01\r\u001b[K     |████████████████████▍           | 61 kB 6.8 MB/s eta 0:00:01\r\u001b[K     |███████████████████████▊        | 71 kB 7.1 MB/s eta 0:00:01\r\u001b[K     |███████████████████████████▏    | 81 kB 7.8 MB/s eta 0:00:01\r\u001b[K     |██████████████████████████████▌ | 92 kB 8.6 MB/s eta 0:00:01\r\u001b[K     |████████████████████████████████| 96 kB 3.7 MB/s \n",
            "\u001b[?25hInstalling collected packages: xlrd\n",
            "  Attempting uninstall: xlrd\n",
            "    Found existing installation: xlrd 1.1.0\n",
            "    Uninstalling xlrd-1.1.0:\n",
            "      Successfully uninstalled xlrd-1.1.0\n",
            "Successfully installed xlrd-2.0.1\n"
          ]
        }
      ]
    },
    {
      "cell_type": "code",
      "execution_count": null,
      "metadata": {
        "id": "4NkHLwRSUuhT"
      },
      "outputs": [],
      "source": [
        "import pandas as pd\n",
        "import numpy as np\n",
        "import math\n",
        "from scipy.integrate import quad\n",
        "from sympy import Symbol, Derivative"
      ]
    },
    {
      "cell_type": "code",
      "source": [
        "from google.colab import drive\n",
        "drive.mount('/content/drive')"
      ],
      "metadata": {
        "id": "BpTZqLUoXstD",
        "colab": {
          "base_uri": "https://localhost:8080/"
        },
        "outputId": "e85a080c-c05a-4e50-b2e2-8f3cbfe33caf"
      },
      "execution_count": null,
      "outputs": [
        {
          "output_type": "stream",
          "name": "stdout",
          "text": [
            "Mounted at /content/drive\n"
          ]
        }
      ]
    },
    {
      "cell_type": "code",
      "source": [
        "df = pd.read_excel(r'/content/drive/MyDrive/Data_BlackKoffer_intern/DATA1/40.xls',sheet_name='results',header=None)\n",
        "df"
      ],
      "metadata": {
        "id": "madamj7fXu5Y"
      },
      "execution_count": null,
      "outputs": []
    },
    {
      "cell_type": "code",
      "source": [
        "def f1(sigma,t):   # when we use this function, t will go from 1 till 300 (not 0-299)\n",
        "  result = 1\n",
        "  for k in range(20*math.floor((t-1)/20)+1, t+1):  # we want it to go from start ... t, that's why used t+1                  \n",
        "    i = k-1  # id of data point, since k is id+1 (k is in column no.0 which is id+1)\n",
        "    val = math.exp(-df[1][i]*df[1][i] / (2*sigma*sigma))\n",
        "    val = val / (math.sqrt(2*math.pi)*sigma)\n",
        "    result = result * val\n",
        "  return result"
      ],
      "metadata": {
        "id": "yaVKMAosevAG"
      },
      "execution_count": null,
      "outputs": []
    },
    {
      "cell_type": "code",
      "source": [
        "def f2(t):\n",
        "  result = 1\n",
        "  for k in range(20*math.floor((t-1)/20)+1, t+1):                                   # \n",
        "    i = k-1\n",
        "    val = math.pi*(1 + df[1][i]*df[1][i])\n",
        "    val = 1 / val\n",
        "    result = result * val\n",
        "  return result"
      ],
      "metadata": {
        "id": "U66htWVJhzyB"
      },
      "execution_count": null,
      "outputs": []
    },
    {
      "cell_type": "code",
      "source": [
        "def m1(t):\n",
        "  val = lambda t : quad(f1, 0.1,2, args=(t,))\n",
        "  ans,err = val(t)\n",
        "  return (1/1.9)*ans"
      ],
      "metadata": {
        "id": "cX_Dz7LGinAr"
      },
      "execution_count": null,
      "outputs": []
    },
    {
      "cell_type": "code",
      "source": [
        "def m2(t):\n",
        "  return f2(t)"
      ],
      "metadata": {
        "id": "6UiKLljclNFP"
      },
      "execution_count": null,
      "outputs": []
    },
    {
      "cell_type": "code",
      "source": [
        "Pm1 = 0.5\n",
        "Pm2 = 0.5"
      ],
      "metadata": {
        "id": "1OyHAp0kl2EY"
      },
      "execution_count": null,
      "outputs": []
    },
    {
      "cell_type": "code",
      "source": [
        "def Pm1Xt(t):\n",
        "  val = Pm1 * m1(t)\n",
        "  val = val / (Pm1*m1(t) + Pm2*m2(t))\n",
        "  return val"
      ],
      "metadata": {
        "id": "GMjiRKdElYmm"
      },
      "execution_count": null,
      "outputs": []
    },
    {
      "cell_type": "code",
      "source": [
        "def Pm2Xt(t):\n",
        "  val = Pm2 * m2(t)\n",
        "  val = val / (Pm1*m1(t) + Pm2*m2(t))\n",
        "  return val"
      ],
      "metadata": {
        "id": "A5czBkC2mCbG"
      },
      "execution_count": null,
      "outputs": []
    },
    {
      "cell_type": "markdown",
      "source": [
        "We win 2dollars on winning bet and loss $40 on lossing bet"
      ],
      "metadata": {
        "id": "ChxzJtXeoQF8"
      }
    },
    {
      "cell_type": "code",
      "source": [
        "def sigmaapprox(t):\n",
        "  start = 20*math.floor((t-1)/20)+1                                                # starting time stamp\n",
        "  end = t\n",
        "  if start==t: \n",
        "    return 0  # no variance if there is only one data point\n",
        "  result = 1 / (end-start+1)\n",
        "  val = 0\n",
        "  for k in range(start,end+1):\n",
        "    i = k-1\n",
        "    val += df[1][i]*df[1][i]\n",
        "  result = result * val\n",
        "  result = math.sqrt(result)\n",
        "  \n",
        "  return result"
      ],
      "metadata": {
        "id": "tQcn1QJBmKBp"
      },
      "execution_count": null,
      "outputs": []
    },
    {
      "cell_type": "code",
      "source": [
        "def pg(t):\n",
        "  sigma = sigmaapprox(t)\n",
        "  if sigma==0:   # sigma = 0 means that we do not have any data yet to calculate sigma\n",
        "    return 0.0001  # very little probability of hitting target\n",
        "  def integrand(x):\n",
        "      result = 1 / (sigma*math.sqrt(2*math.pi))\n",
        "      result = result * math.exp(-x*x / (2*sigma*sigma))\n",
        "      return result\n",
        "  phi,err = quad(integrand,-float('inf'),-4)\n",
        "  result = 1 - 2*(phi)\n",
        "  if result>=1: \n",
        "    result = 0.999   # near certain of hitting the target\n",
        "  return result    "
      ],
      "metadata": {
        "id": "tqXyyw1hHZTE"
      },
      "execution_count": null,
      "outputs": []
    },
    {
      "cell_type": "code",
      "source": [
        "def pc():\n",
        "  return 0.844"
      ],
      "metadata": {
        "id": "NCu_O1D4J1mF"
      },
      "execution_count": null,
      "outputs": []
    },
    {
      "cell_type": "code",
      "source": [
        "def compute_expValue(t, alpha1, alpha2, alpha3, lamda):\n",
        "  if t%20==0 or t%20==1: return 0   # t is the first or last data point of a trial set\n",
        "  Pg = pg(t)\n",
        "  Pc = pc()\n",
        "  a = np.exp(-(-math.log(Pg))**alpha3)\n",
        "  b = lamda*np.exp(-(-math.log(1-Pg))**alpha3)\n",
        "  c = np.exp(-(-math.log(Pc))**alpha3)\n",
        "  d = lamda*np.exp(-(-math.log(1-Pc))**alpha3)\n",
        "  V = Pm1Xt(t-1)*(a*pow(2,alpha1) - b*pow(40,alpha2)) + Pm2Xt(t-1)*(c*pow(2,alpha1) - d*pow(40,alpha2))\n",
        "  return V # expected value"
      ],
      "metadata": {
        "id": "dR0eyK8IKAM8"
      },
      "execution_count": null,
      "outputs": []
    },
    {
      "cell_type": "markdown",
      "source": [
        "We bet on trial t+1 if and only if Vt > 0 "
      ],
      "metadata": {
        "id": "Jlz42Vz6K67K"
      }
    },
    {
      "cell_type": "code",
      "source": [
        "\n",
        "def predict(start, end, alpha1, alpha2, alpha3, lamda):\n",
        "  total = 0\n",
        "  plist = []\n",
        "  expList = []\n",
        "  for i in range(start,end):\n",
        "    # i is the time stamp\n",
        "    Vt = compute_expValue(i, alpha1, alpha2, alpha3, lamda)\n",
        "    expList.append(Vt)\n",
        "    if Vt>0:\n",
        "      plist.append(1)\n",
        "      if df[1][i]<=4 and df[1][i]>=-4: \n",
        "        total+=2\n",
        "      else: \n",
        "        total-=40\n",
        "    else: plist.append(0)        \n",
        "  return (plist,expList,total)       "
      ],
      "metadata": {
        "id": "l9DpehsSLDxh"
      },
      "execution_count": null,
      "outputs": []
    },
    {
      "cell_type": "markdown",
      "source": [
        "Now we train the model (for parameters alpha1, alpha2, alpha3 and lamda)"
      ],
      "metadata": {
        "id": "6XkNx4-U2nr-"
      }
    },
    {
      "cell_type": "code",
      "source": [
        "Y = df[5]"
      ],
      "metadata": {
        "id": "MnfKbyjtaNJA"
      },
      "execution_count": null,
      "outputs": []
    },
    {
      "cell_type": "code",
      "source": [
        "def errorFunc(prediction, Y):  # cost function\n",
        "  total = 0\n",
        "  for i in range(1,160):  # i is timestamp\n",
        "    #total += (prediction[i]-Y[i])**2\n",
        "    if (Y[i]==0 and prediction[i]>0) or (Y[i]==1 and prediction[i]<=0): total += prediction[i]**2\n",
        "  total /= 320\n",
        "  return total "
      ],
      "metadata": {
        "id": "7PX0pf9A2nOo"
      },
      "execution_count": null,
      "outputs": []
    },
    {
      "cell_type": "code",
      "source": [
        "def derivative_cost_function(alpha1,alpha2,alpha3,lamda):  # gradient of cost function (used in gradient descent)\n",
        "  G_a1 = 0   # total gradient \n",
        "  G_a2 = 0\n",
        "  G_a3 = 0\n",
        "  G_L = 0\n",
        "  plist,expList,total = predict(0,160,alpha1,alpha2,alpha3,lamda)\n",
        "  \n",
        "  for i in range(3,160):  \n",
        "    pm1 = Pm1Xt(i-2)\n",
        "    pm2 = Pm2Xt(i-2)\n",
        "    Pg = pg(i-1)\n",
        "    Pc = pc()\n",
        "    #V = compute_expValue(i-1,a1,a2,a3,L)\n",
        "    d_a1 = -pm1*(np.exp(-(-math.log(Pg))**alpha3)*2**alpha1*math.log(2)) - pm2*(np.exp(-(-math.log(Pc))**alpha3)*2**alpha1*math.log(2))          #Derivative(V,a1)\n",
        "    d_a2 = -pm1*lamda*(np.exp(-(-math.log(1-Pg))**alpha3)*40**alpha2*math.log(40)) - pm2*lamda*(np.exp(-(-math.log(1-Pc))**alpha3)*40**alpha2*math.log(40))\n",
        "    d_a3 = -pm1*(-(-math.log(Pg))**alpha3*math.log(-math.log(Pg))*np.exp(-(-math.log(Pg))**alpha3)*2**alpha1 + lamda*(-math.log(1-Pg))**alpha3*math.log(-math.log(1-Pg))*np.exp(-(-math.log(1-Pg))**alpha3)*40**alpha2) - pm2*(-(-math.log(Pc))**alpha3*math.log(-math.log(Pc))*np.exp(-(-math.log(Pc))**alpha3)*2**alpha1 + lamda*(-math.log(1-Pc))**alpha3*math.log(-math.log(1-Pc))*np.exp(-(-math.log(1-Pc))**alpha3)*40**alpha2)\n",
        "    d_L = pm1*np.exp(-(-math.log(1-Pg))**alpha3)*40**alpha2 + pm2*np.exp(-(-math.log(1-Pc))**alpha3)*40**alpha2\n",
        "    if (Y[i]==0 and expList[i]>0) or (Y[i]==1 and expList[i]<=0):\n",
        "      G_a1 += (expList[i])*d_a1\n",
        "      G_a2 += (expList[i])*d_a2\n",
        "      G_a3 += (expList[i])*d_a3\n",
        "      G_L += (expList[i])*d_L\n",
        "  \n",
        "  G_a1 /= 140\n",
        "  G_a2 /= 140\n",
        "  G_a3 /= 140\n",
        "  G_L /= 140 \n",
        "  return (G_a1,G_a2,G_a3,G_L)"
      ],
      "metadata": {
        "id": "Jjh2DNRBZPeX"
      },
      "execution_count": null,
      "outputs": []
    },
    {
      "cell_type": "code",
      "source": [
        "alpha1,alpha2,alpha3,lamda = 1.0,1.0,1.0,1.0\n",
        "\n",
        "alpha = 0.005  # learning rate\n",
        "i = 0\n",
        "while True:\n",
        "  if i==100: break\n",
        "  \n",
        "  if i==0:\n",
        "    pre_a1,pre_a2,pre_a3,pre_L = alpha1,alpha2,alpha3,lamda\n",
        "    i+=1\n",
        "  else:\n",
        "    G_a1,G_a2,G_a3,G_L = derivative_cost_function(alpha1,alpha2,alpha3,lamda)\n",
        "    temp1 = alpha1 - alpha*G_a1\n",
        "    temp2 = alpha2 - alpha*G_a2\n",
        "    temp3 = alpha3 - alpha*G_a3\n",
        "    temp4 = lamda - alpha*G_L\n",
        "    alpha1,alpha2,alpha3,lamda = temp1,temp2,temp3,temp4\n",
        "    if alpha1>=1: \n",
        "      alpha1 = 0.99\n",
        "    if alpha2>=1:\n",
        "      alpha2 = 0.99\n",
        "    if alpha3>=1:\n",
        "      alpha3 = 0.99\n",
        "    print(\"alpha1, alpha2, alpha3, lamda: \",alpha1,alpha2,alpha3,lamda)\n",
        "    if abs(alpha1-pre_a1)<1e-3 or abs(alpha2-pre_a2)<1e-3 or abs(alpha3-pre_a3)<1e-3 or abs(lamda-pre_L)<1e-3: break\n",
        "    else: pre_a1,pre_a2,pre_a3,pre_L = alpha1,alpha2,alpha3,lamda\n",
        "    i+=1\n",
        "\n",
        "if lamda<=1.01: lamda = 1.01\n",
        "print(\"alpha1, alpha2, alpha3, lamda: \",alpha1,alpha2,alpha3,lamda)"
      ],
      "metadata": {
        "id": "s3d5eXUPhCbk"
      },
      "execution_count": null,
      "outputs": []
    },
    {
      "cell_type": "markdown",
      "source": [
        "Now we obtain the results"
      ],
      "metadata": {
        "id": "_EpEWF4PEvJL"
      }
    },
    {
      "cell_type": "code",
      "source": [
        "#plist,total = predict(160,300,alpha1,alpha2,alpha3,lamda)\n",
        "plist,expList,total = predict(160,300,alpha1,alpha2,alpha3,lamda)\n",
        "print(len(plist))\n",
        "print(total)"
      ],
      "metadata": {
        "id": "hv4qmED4eyvS"
      },
      "execution_count": null,
      "outputs": []
    },
    {
      "cell_type": "code",
      "source": [
        "print(plist)"
      ],
      "metadata": {
        "id": "SsyLoGxFg3fX"
      },
      "execution_count": null,
      "outputs": []
    },
    {
      "cell_type": "code",
      "source": [
        "Y = df[5]\n",
        "total = 0\n",
        "for i in range(0,140):\n",
        "  if (plist[i]==0 and Y[i+160]==0) or (plist[i]==1 and Y[i+160]==1): total+=1\n",
        "print(\"The accuracy score of the base model is: \",(total/140)*100)  "
      ],
      "metadata": {
        "id": "UfNFjztFi4o_"
      },
      "execution_count": null,
      "outputs": []
    },
    {
      "cell_type": "code",
      "source": [
        ""
      ],
      "metadata": {
        "id": "XHsKOvTw-TQV"
      },
      "execution_count": null,
      "outputs": []
    }
  ]
}