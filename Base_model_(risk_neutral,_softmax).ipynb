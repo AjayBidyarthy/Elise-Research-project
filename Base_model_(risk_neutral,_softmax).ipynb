{
  "nbformat": 4,
  "nbformat_minor": 0,
  "metadata": {
    "colab": {
      "name": "Base model (risk neutral, softmax)",
      "provenance": [],
      "collapsed_sections": []
    },
    "kernelspec": {
      "name": "python3",
      "display_name": "Python 3"
    },
    "language_info": {
      "name": "python"
    }
  },
  "cells": [
    {
      "cell_type": "code",
      "source": [
        "!pip install --upgrade xlrd"
      ],
      "metadata": {
        "id": "kqQcERT2UJHw",
        "colab": {
          "base_uri": "https://localhost:8080/"
        },
        "outputId": "f03df94e-aca5-4016-bf09-2b70de1ea398"
      },
      "execution_count": null,
      "outputs": [
        {
          "output_type": "stream",
          "name": "stdout",
          "text": [
            "Requirement already satisfied: xlrd in /usr/local/lib/python3.7/dist-packages (1.1.0)\n",
            "Collecting xlrd\n",
            "  Downloading xlrd-2.0.1-py2.py3-none-any.whl (96 kB)\n",
            "\u001b[K     |████████████████████████████████| 96 kB 2.9 MB/s \n",
            "\u001b[?25hInstalling collected packages: xlrd\n",
            "  Attempting uninstall: xlrd\n",
            "    Found existing installation: xlrd 1.1.0\n",
            "    Uninstalling xlrd-1.1.0:\n",
            "      Successfully uninstalled xlrd-1.1.0\n",
            "Successfully installed xlrd-2.0.1\n"
          ]
        }
      ]
    },
    {
      "cell_type": "code",
      "execution_count": null,
      "metadata": {
        "id": "4NkHLwRSUuhT"
      },
      "outputs": [],
      "source": [
        "import pandas as pd\n",
        "import numpy as np\n",
        "import math\n",
        "from scipy.integrate import quad"
      ]
    },
    {
      "cell_type": "code",
      "source": [
        "from google.colab import drive\n",
        "drive.mount('/content/drive')"
      ],
      "metadata": {
        "id": "BpTZqLUoXstD",
        "colab": {
          "base_uri": "https://localhost:8080/"
        },
        "outputId": "da37877b-8164-4567-dc18-87f1e554a2ca"
      },
      "execution_count": null,
      "outputs": [
        {
          "output_type": "stream",
          "name": "stdout",
          "text": [
            "Mounted at /content/drive\n"
          ]
        }
      ]
    },
    {
      "cell_type": "code",
      "source": [
        "df = pd.read_excel(r'/content/drive/MyDrive/Data_BlackKoffer_intern/DATA1/53.xls',sheet_name='results',header=None)"
      ],
      "metadata": {
        "id": "madamj7fXu5Y"
      },
      "execution_count": null,
      "outputs": []
    },
    {
      "cell_type": "code",
      "source": [
        "df"
      ],
      "metadata": {
        "id": "0bm_TPIuYiw2"
      },
      "execution_count": null,
      "outputs": []
    },
    {
      "cell_type": "code",
      "source": [
        "Vt = 0"
      ],
      "metadata": {
        "id": "3wedk_8ucLHr"
      },
      "execution_count": null,
      "outputs": []
    },
    {
      "cell_type": "code",
      "source": [
        "def f1(sigma,t):   # when we use this function, t will go from 1 till 300 (not 0-299)\n",
        "  result = 1\n",
        "  for k in range(20*math.floor((t-1)/20)+1, t+1):  # we want it to go from start ... t, that's why used t+1                  \n",
        "    i = k-1  # id of data point, since k is id+1 (k is in column no.0 which is id+1)\n",
        "    val = math.exp(-df[1][i]*df[1][i] / (2*sigma*sigma))\n",
        "    val = val / (math.sqrt(2*math.pi)*sigma)\n",
        "    result = result * val\n",
        "  return result"
      ],
      "metadata": {
        "id": "yaVKMAosevAG"
      },
      "execution_count": null,
      "outputs": []
    },
    {
      "cell_type": "code",
      "source": [
        "def f2(t):\n",
        "  result = 1\n",
        "  for k in range(20*math.floor((t-1)/20)+1, t+1):                                   # \n",
        "    i = k-1\n",
        "    val = math.pi*(1 + df[1][i]*df[1][i])\n",
        "    val = 1 / val\n",
        "    result = result * val\n",
        "  return result"
      ],
      "metadata": {
        "id": "U66htWVJhzyB"
      },
      "execution_count": null,
      "outputs": []
    },
    {
      "cell_type": "code",
      "source": [
        "def m1(t):\n",
        "  val = lambda t : quad(f1, 0.1,2, args=(t,))\n",
        "  ans,err = val(t)\n",
        "  return (1/1.9)*ans"
      ],
      "metadata": {
        "id": "cX_Dz7LGinAr"
      },
      "execution_count": null,
      "outputs": []
    },
    {
      "cell_type": "code",
      "source": [
        "def m2(t):\n",
        "  return f2(t)"
      ],
      "metadata": {
        "id": "6UiKLljclNFP"
      },
      "execution_count": null,
      "outputs": []
    },
    {
      "cell_type": "code",
      "source": [
        "Pm1 = 0.5\n",
        "Pm2 = 0.5"
      ],
      "metadata": {
        "id": "1OyHAp0kl2EY"
      },
      "execution_count": null,
      "outputs": []
    },
    {
      "cell_type": "code",
      "source": [
        "def Pm1Xt(t):\n",
        "  val = Pm1 * m1(t)\n",
        "  val = val / (Pm1*m1(t) + Pm2*m2(t))\n",
        "  return val"
      ],
      "metadata": {
        "id": "GMjiRKdElYmm"
      },
      "execution_count": null,
      "outputs": []
    },
    {
      "cell_type": "code",
      "source": [
        "def Pm2Xt(t):\n",
        "  val = Pm2 * m2(t)\n",
        "  val = val / (Pm1*m1(t) + Pm2*m2(t))\n",
        "  return val"
      ],
      "metadata": {
        "id": "A5czBkC2mCbG"
      },
      "execution_count": null,
      "outputs": []
    },
    {
      "cell_type": "markdown",
      "source": [
        "We win 2dollars on winning bet and loss $40 on lossing bet"
      ],
      "metadata": {
        "id": "ChxzJtXeoQF8"
      }
    },
    {
      "cell_type": "code",
      "source": [
        "def sigmaapprox(t):\n",
        "  start = 20*math.floor((t-1)/20)+1                                                # \n",
        "  end = t\n",
        "  if start==t: \n",
        "    return 0  # no variance if there is only one data point\n",
        "  result = 1 / (end-start+1)\n",
        "  val = 0\n",
        "  for k in range(start,end+1):\n",
        "    i = k-1\n",
        "    val += df[1][i]*df[1][i]\n",
        "  result = result * val\n",
        "  result = math.sqrt(result)\n",
        "  \n",
        "  return result"
      ],
      "metadata": {
        "id": "tQcn1QJBmKBp"
      },
      "execution_count": null,
      "outputs": []
    },
    {
      "cell_type": "code",
      "source": [
        "def pg(t):\n",
        "  sigma = sigmaapprox(t)\n",
        "  if sigma==0:\n",
        "    return 0\n",
        "  def integrand(x):\n",
        "      result = 1 / (sigma*math.sqrt(2*math.pi))\n",
        "      result = result * math.exp(-x*x / (2*sigma*sigma))\n",
        "      return result\n",
        "  phi,err = quad(integrand,-float('inf'),4)\n",
        "  result = 1 - 2*(1-phi)\n",
        "  \n",
        "  return result    "
      ],
      "metadata": {
        "id": "tqXyyw1hHZTE"
      },
      "execution_count": null,
      "outputs": []
    },
    {
      "cell_type": "code",
      "source": [
        "def pc():\n",
        "  return 0.844"
      ],
      "metadata": {
        "id": "NCu_O1D4J1mF"
      },
      "execution_count": null,
      "outputs": []
    },
    {
      "cell_type": "code",
      "source": [
        "def compute_expValue(t):\n",
        "  if t%20==0 or t%20==1: return 0   # t is the first data point of a trial set\n",
        "  Pg = pg(t)\n",
        "  Pc = pc()\n",
        "  V = Pm1Xt(t-1) * (2*Pg - (1-Pg)*40) + Pm2Xt(t-1) * (2*Pc - (1-Pc)*40)\n",
        "  \n",
        "  return V # exp value"
      ],
      "metadata": {
        "id": "dR0eyK8IKAM8"
      },
      "execution_count": null,
      "outputs": []
    },
    {
      "cell_type": "markdown",
      "source": [
        "We bet on trial t+1 if and only if Vt > 0 "
      ],
      "metadata": {
        "id": "Jlz42Vz6K67K"
      }
    },
    {
      "cell_type": "code",
      "source": [
        "\n",
        "def predict(start,end,beta):\n",
        "  total = 0\n",
        "  plist = []  # the list containing the bet values (1/0)\n",
        "  probList = []\n",
        "  for i in range(start,end):\n",
        "    # i is the time stamp\n",
        "    Vt = compute_expValue(i)\n",
        "    prob = math.exp(beta*Vt) / (1 + math.exp(beta*Vt))\n",
        "    probList.append(prob)\n",
        "    if prob>0.5:\n",
        "      plist.append(1)\n",
        "      if df[1][i]<=4 and df[1][i]>=-4: \n",
        "        total+=2\n",
        "      else: \n",
        "        total-=40\n",
        "    else: plist.append(0)        \n",
        "  return (plist,probList,total)       "
      ],
      "metadata": {
        "id": "l9DpehsSLDxh"
      },
      "execution_count": null,
      "outputs": []
    },
    {
      "cell_type": "markdown",
      "source": [
        "Now we train the model (the parameter beta)"
      ],
      "metadata": {
        "id": "_EpEWF4PEvJL"
      }
    },
    {
      "cell_type": "code",
      "source": [
        "Y = df[4]"
      ],
      "metadata": {
        "id": "_6fIFcVZJpfi"
      },
      "execution_count": null,
      "outputs": []
    },
    {
      "cell_type": "code",
      "source": [
        "def cost_func(prediction,Y):\n",
        "  total = 0\n",
        "  for i in range(1,160):  # i is timestamp\n",
        "    total -= (Y[i]*math.log(prediction[i]) + (1-Y[i])*math.log(1-prediction[i]))\n",
        "\n",
        "  total /= 160\n",
        "  return total"
      ],
      "metadata": {
        "id": "v-8aPlj7_d3C"
      },
      "execution_count": null,
      "outputs": []
    },
    {
      "cell_type": "code",
      "source": [
        "def gradient_cost_func(beta):\n",
        "  total = 0\n",
        "  plist,probList,total = predict(0,160,beta)\n",
        "  for i in range(3,160):\n",
        "    total += (probList[i]-Y[i])*compute_expValue(i-1)\n",
        "  \n",
        "  total = total/160 \n",
        "  return total"
      ],
      "metadata": {
        "id": "x3f4DaNCArew"
      },
      "execution_count": null,
      "outputs": []
    },
    {
      "cell_type": "code",
      "source": [
        "beta = 1\n",
        "alpha = 0.05\n",
        "i = 0\n",
        "while True:\n",
        "  if i==100: break\n",
        "  \n",
        "  if i==0:\n",
        "    pre = beta\n",
        "    i+=1\n",
        "  else:\n",
        "    beta = beta - alpha*gradient_cost_func(beta)\n",
        "    print(\"beta: \",beta)\n",
        "    if abs(beta-pre)<1e-3: break\n",
        "    else: pre = beta\n",
        "    i+=1"
      ],
      "metadata": {
        "id": "Rw1msEZXEn_k"
      },
      "execution_count": null,
      "outputs": []
    },
    {
      "cell_type": "markdown",
      "source": [
        "Now we get the results"
      ],
      "metadata": {
        "id": "0e1t7MaA_Z4O"
      }
    },
    {
      "cell_type": "code",
      "source": [
        "plist,probList,total = predict(160,300,beta)\n",
        "\n",
        "print(len(plist))\n",
        "print(total)"
      ],
      "metadata": {
        "id": "hv4qmED4eyvS"
      },
      "execution_count": null,
      "outputs": []
    },
    {
      "cell_type": "code",
      "source": [
        "print(plist)"
      ],
      "metadata": {
        "id": "SsyLoGxFg3fX"
      },
      "execution_count": null,
      "outputs": []
    },
    {
      "cell_type": "code",
      "source": [
        "Y = df[4]\n",
        "print(Y[0])"
      ],
      "metadata": {
        "id": "tPGD42VNfybn"
      },
      "execution_count": null,
      "outputs": []
    },
    {
      "cell_type": "code",
      "source": [
        "total = 0\n",
        "for i in range(0,140):\n",
        "  if (plist[i]==0 and Y[i+160]==0) or (plist[i]==1 and Y[i+160]==1): total+=1\n",
        "print(\"The accuracy score of the base model is: \",total/140*100,\"%\")  "
      ],
      "metadata": {
        "id": "UfNFjztFi4o_",
        "colab": {
          "base_uri": "https://localhost:8080/"
        },
        "outputId": "f4aaa7a0-2652-4f0d-b014-66ccb368694b"
      },
      "execution_count": null,
      "outputs": [
        {
          "output_type": "stream",
          "name": "stdout",
          "text": [
            "The accuracy score of the base model is:  79.28571428571428 %\n"
          ]
        }
      ]
    },
    {
      "cell_type": "code",
      "source": [
        ""
      ],
      "metadata": {
        "id": "T42IwkJkX-o0"
      },
      "execution_count": null,
      "outputs": []
    }
  ]
}