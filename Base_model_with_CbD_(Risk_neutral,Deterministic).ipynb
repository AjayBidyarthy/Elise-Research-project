{
  "nbformat": 4,
  "nbformat_minor": 0,
  "metadata": {
    "colab": {
      "name": "Base model with CbD (Risk neutral,Deterministic).ipynb",
      "provenance": [],
      "collapsed_sections": []
    },
    "kernelspec": {
      "name": "python3",
      "display_name": "Python 3"
    },
    "language_info": {
      "name": "python"
    },
    "accelerator": "GPU"
  },
  "cells": [
    {
      "cell_type": "code",
      "source": [
        "!pip install --upgrade xlrd"
      ],
      "metadata": {
        "id": "p_5RB0lxTzER"
      },
      "execution_count": null,
      "outputs": []
    },
    {
      "cell_type": "code",
      "execution_count": null,
      "metadata": {
        "id": "GkpK3vB_8fHw"
      },
      "outputs": [],
      "source": [
        "import pandas as pd\n",
        "import numpy as np\n",
        "import math\n",
        "from scipy.integrate import quad"
      ]
    },
    {
      "cell_type": "code",
      "source": [
        "from google.colab import drive\n",
        "drive.mount('/content/drive')"
      ],
      "metadata": {
        "id": "ibVl0l-G91Vf"
      },
      "execution_count": null,
      "outputs": []
    },
    {
      "cell_type": "code",
      "source": [
        "df = pd.read_excel(r'/content/drive/MyDrive/Data_BlackKoffer_intern/DATA1/16.xls',sheet_name='results',header=None)\n",
        "df"
      ],
      "metadata": {
        "id": "mdLM-F-892Ah"
      },
      "execution_count": null,
      "outputs": []
    },
    {
      "cell_type": "code",
      "source": [
        "def f1(sigma,t):   # t is the timestamp\n",
        "  result = 1\n",
        "  for k in range(20*math.floor((t-1)/20)+1, t+1):  # we want k to go from start ... t, that's why used t+1                  \n",
        "    i = k-1  # id of data point, since k is id+1 (k is in column no.0 which is id+1)\n",
        "    val = math.exp(-df[1][i]*df[1][i] / (2*sigma*sigma))\n",
        "    val = val / (math.sqrt(2*math.pi)*sigma)\n",
        "    result = result * val\n",
        "  return result"
      ],
      "metadata": {
        "id": "MDSY56zh97P4"
      },
      "execution_count": null,
      "outputs": []
    },
    {
      "cell_type": "code",
      "source": [
        "def f2(t):\n",
        "  result = 1\n",
        "  for k in range(20*math.floor((t-1)/20)+1, t+1):                                    \n",
        "    i = k-1\n",
        "    val = math.pi*(1 + df[1][i]*df[1][i])\n",
        "    val = 1 / val\n",
        "    result = result * val\n",
        "  return result"
      ],
      "metadata": {
        "id": "DTUzzrYA-AQm"
      },
      "execution_count": null,
      "outputs": []
    },
    {
      "cell_type": "code",
      "source": [
        "def m1(t):\n",
        "  val = lambda t : quad(f1, 0.1,2, args=(t,))\n",
        "  ans,err = val(t)\n",
        "  return (1/1.9)*ans"
      ],
      "metadata": {
        "id": "urFg5TUj-Cbg"
      },
      "execution_count": null,
      "outputs": []
    },
    {
      "cell_type": "code",
      "source": [
        "def m2(t):\n",
        "  return f2(t)"
      ],
      "metadata": {
        "id": "rMDLBzFL-Ee1"
      },
      "execution_count": null,
      "outputs": []
    },
    {
      "cell_type": "code",
      "source": [
        "Pm1 = 0.5\n",
        "Pm2 = 0.5"
      ],
      "metadata": {
        "id": "9xY2Xi4N-GQS"
      },
      "execution_count": null,
      "outputs": []
    },
    {
      "cell_type": "code",
      "source": [
        "def Pm1Xt(t):\n",
        "  val = Pm1 * m1(t)\n",
        "  val = val / (Pm1*m1(t) + Pm2*m2(t))\n",
        "  return val"
      ],
      "metadata": {
        "id": "uIb1eeAx-IUS"
      },
      "execution_count": null,
      "outputs": []
    },
    {
      "cell_type": "code",
      "source": [
        "def Pm2Xt(t):\n",
        "  val = Pm2 * m2(t)\n",
        "  val = val / (Pm1*m1(t) + Pm2*m2(t))\n",
        "  return val"
      ],
      "metadata": {
        "id": "RfNp1PTr-KHV"
      },
      "execution_count": null,
      "outputs": []
    },
    {
      "cell_type": "markdown",
      "source": [
        "We win 2dollars on winning bet and loss $40 on lossing bet"
      ],
      "metadata": {
        "id": "o4-JwONl-PWr"
      }
    },
    {
      "cell_type": "code",
      "source": [
        "def sigmaapprox(t):\n",
        "  start = 20*math.floor((t-1)/20)+1                                                 \n",
        "  end = t\n",
        "  if start==t: \n",
        "    return 0  # no variance if there is only one data point\n",
        "  result = 1 / (end-start+1)\n",
        "  val = 0\n",
        "  for k in range(start,end+1):\n",
        "    i = k-1\n",
        "    val += df[1][i]*df[1][i]\n",
        "  result = result * val\n",
        "  result = math.sqrt(result)\n",
        "  \n",
        "  return result"
      ],
      "metadata": {
        "id": "3DsPYE8L-MPg"
      },
      "execution_count": null,
      "outputs": []
    },
    {
      "cell_type": "code",
      "source": [
        "def pg(t):\n",
        "  sigma = sigmaapprox(t)\n",
        "  if sigma==0:\n",
        "    return 0\n",
        "  def integrand(x):\n",
        "      result = 1 / (sigma*math.sqrt(2*math.pi))\n",
        "      result = result * math.exp(-x*x / (2*sigma*sigma))\n",
        "      return result\n",
        "  phi,err = quad(integrand,-float('inf'),4)\n",
        "  result = 1 - 2*(1-phi)\n",
        "  \n",
        "  return result  "
      ],
      "metadata": {
        "id": "32b22dKw-Sge"
      },
      "execution_count": null,
      "outputs": []
    },
    {
      "cell_type": "code",
      "source": [
        "def pc():\n",
        "  return 0.844"
      ],
      "metadata": {
        "id": "NvFooHOQ-WHf"
      },
      "execution_count": null,
      "outputs": []
    },
    {
      "cell_type": "code",
      "source": [
        "def compute_expValue(DA, t):\n",
        "  if t%20==0 or t%20==1: return 0   # t is the first or the last data point of a trial set\n",
        "  if t%20<5: DA=0\n",
        "  Pg = pg(t)\n",
        "  Pc = pc()\n",
        "  V = Pm1Xt(t-1)*((2+DA)*Pg - (1-Pg)*40) + Pm2Xt(t-1)*((2+DA)*Pc-(1-Pc)*40)\n",
        "  return V # expected value"
      ],
      "metadata": {
        "id": "PU7dT_J--YRH"
      },
      "execution_count": null,
      "outputs": []
    },
    {
      "cell_type": "markdown",
      "source": [
        "We bet on trial t+1 if and only if Vt > 0 "
      ],
      "metadata": {
        "id": "aaFeOgJ8-bFu"
      }
    },
    {
      "cell_type": "code",
      "source": [
        "def predict(DA,starting,ending):\n",
        "  total = 0\n",
        "  plist = []  # list of outcomes (bet or not bet)\n",
        "  expList = []  # list of expected values for each time stamp\n",
        "  for i in range(starting,ending): \n",
        "    # i is the time stamp. \n",
        "    Vt = compute_expValue(DA,i) # Computing expected value for timestamp i\n",
        "    expList.append(Vt)\n",
        "    if Vt>0:\n",
        "      plist.append(1)\n",
        "      if df[1][i]<=4 and df[1][i]>=-4: # in the dataframe, index of data at time i+1 is i\n",
        "        total+=2 \n",
        "      else: \n",
        "        total-=40\n",
        "    else: plist.append(0)        # adding value for timestamp i+1\n",
        "  return (plist,expList,total)       "
      ],
      "metadata": {
        "id": "W93Vy3xj-ZKY"
      },
      "execution_count": null,
      "outputs": []
    },
    {
      "cell_type": "code",
      "source": [
        ""
      ],
      "metadata": {
        "id": "lK_8lbSztVYg"
      },
      "execution_count": null,
      "outputs": []
    },
    {
      "cell_type": "markdown",
      "source": [
        "Now we train the model (the parameter DA)"
      ],
      "metadata": {
        "id": "psvm19zK-jY3"
      }
    },
    {
      "cell_type": "code",
      "source": [
        "Y = df[5]"
      ],
      "metadata": {
        "id": "Wxb08rUt-s3M"
      },
      "execution_count": null,
      "outputs": []
    },
    {
      "cell_type": "code",
      "source": [
        "def errorFunc(prediction, Y):  # cost function\n",
        "  total = 0\n",
        "  for i in range(0,160):  # i+1 is timestamp\n",
        "    total += (prediction[i]-Y[i])**2\n",
        "  total /= 320\n",
        "  return total  "
      ],
      "metadata": {
        "id": "aSt52UlX-qxg"
      },
      "execution_count": null,
      "outputs": []
    },
    {
      "cell_type": "markdown",
      "source": [
        "gradient descent"
      ],
      "metadata": {
        "id": "jHEUsWO-XOHs"
      }
    },
    {
      "cell_type": "code",
      "source": [
        "DA = 0.01\n",
        "min_err = 1.0\n",
        "da = 0.01\n",
        "\n",
        "pre_err = 0\n",
        "while da<5:\n",
        "  plist,expList,total = predict(da,0,160)\n",
        "  err = errorFunc(plist,Y)\n",
        "  print('DA, mse: ', DA,err)\n",
        "  if err < min_err:\n",
        "    DA = da\n",
        "    min_err = err\n",
        "  if DA<2: da += 0.02\n",
        "  else:  da+=0.04"
      ],
      "metadata": {
        "id": "sIr-jV2xXQfA"
      },
      "execution_count": null,
      "outputs": []
    },
    {
      "cell_type": "markdown",
      "source": [
        "Tesing the resulting model on remaining 7 sessions and calculating accuracy score"
      ],
      "metadata": {
        "id": "11mjqWIBcyY5"
      }
    },
    {
      "cell_type": "code",
      "source": [
        "plist,expList,total = predict(DA,160,300)   # prediction\n",
        "\n",
        "print(len(plist))\n",
        "print(total)"
      ],
      "metadata": {
        "id": "Xi_V4qPLZ2HA"
      },
      "execution_count": null,
      "outputs": []
    },
    {
      "cell_type": "code",
      "source": [
        "print(plist)"
      ],
      "metadata": {
        "id": "M-2s9IYJdAFQ"
      },
      "execution_count": null,
      "outputs": []
    },
    {
      "cell_type": "code",
      "source": [
        "\n",
        "total = 0\n",
        "Y = df[5]\n",
        "print(Y[12]) \n",
        "for i in range(0,140):  # we will have to change it to (0,160) when the dataset has a length of 320\n",
        "  if (plist[i]==0 and Y[i+160]==0) or (plist[i]==1 and Y[i+160]==1): total+=1\n",
        "print(\"The accuracy score of the base model with CbD is: \",total/140*100,\"%\")   # similarly here 140 -> 160"
      ],
      "metadata": {
        "id": "u_lMk7H0dEMb"
      },
      "execution_count": null,
      "outputs": []
    },
    {
      "cell_type": "code",
      "source": [
        ""
      ],
      "metadata": {
        "id": "vXSKKe2qljrO"
      },
      "execution_count": null,
      "outputs": []
    }
  ]
}