{
  "nbformat": 4,
  "nbformat_minor": 0,
  "metadata": {
    "colab": {
      "name": " CbD model (Prospect theory,softmax).ipynb",
      "provenance": [],
      "collapsed_sections": []
    },
    "kernelspec": {
      "name": "python3",
      "display_name": "Python 3"
    },
    "language_info": {
      "name": "python"
    },
    "accelerator": "GPU"
  },
  "cells": [
    {
      "cell_type": "code",
      "source": [
        "!pip install --upgrade xlrd"
      ],
      "metadata": {
        "id": "HfMsbFkdU898"
      },
      "execution_count": null,
      "outputs": []
    },
    {
      "cell_type": "code",
      "execution_count": null,
      "metadata": {
        "id": "GkpK3vB_8fHw"
      },
      "outputs": [],
      "source": [
        "import pandas as pd\n",
        "import numpy as np\n",
        "import math\n",
        "from scipy.integrate import quad"
      ]
    },
    {
      "cell_type": "code",
      "source": [
        "from google.colab import drive\n",
        "drive.mount('/content/drive')"
      ],
      "metadata": {
        "id": "ibVl0l-G91Vf"
      },
      "execution_count": null,
      "outputs": []
    },
    {
      "cell_type": "code",
      "source": [
        "df = pd.read_excel(r'/content/drive/MyDrive/Data_BlackKoffer_intern/Penny Pickers_EXPE5/4.xls',sheet_name='results',header=None)\n",
        "df"
      ],
      "metadata": {
        "id": "mdLM-F-892Ah"
      },
      "execution_count": null,
      "outputs": []
    },
    {
      "cell_type": "code",
      "source": [
        "def f1(sigma,t):   # t is the timestamp\n",
        "  result = 1\n",
        "  for k in range(20*math.floor((t-1)/20)+1, t+1):  # we want it to go from start ... t, that's why used t+1                  \n",
        "    i = k-1  # id of data point, since k is id+1 (k is in column no.0 which is id+1)\n",
        "    val = math.exp(-df[1][i]*df[1][i] / (2*sigma*sigma))\n",
        "    val = val / (math.sqrt(2*math.pi)*sigma)\n",
        "    result = result * val\n",
        "  return result"
      ],
      "metadata": {
        "id": "MDSY56zh97P4"
      },
      "execution_count": null,
      "outputs": []
    },
    {
      "cell_type": "code",
      "source": [
        "def f2(t):\n",
        "  result = 1\n",
        "  for k in range(20*math.floor((t-1)/20)+1, t+1):                                   # \n",
        "    i = k-1\n",
        "    val = math.pi*(1 + df[1][i]*df[1][i])\n",
        "    val = 1 / val\n",
        "    result = result * val\n",
        "  return result"
      ],
      "metadata": {
        "id": "DTUzzrYA-AQm"
      },
      "execution_count": null,
      "outputs": []
    },
    {
      "cell_type": "code",
      "source": [
        "def m1(t):\n",
        "  val = lambda t : quad(f1, 0.1,2, args=(t,))\n",
        "  ans,err = val(t)\n",
        "  return (1/1.9)*ans"
      ],
      "metadata": {
        "id": "urFg5TUj-Cbg"
      },
      "execution_count": null,
      "outputs": []
    },
    {
      "cell_type": "code",
      "source": [
        "def m2(t):\n",
        "  return f2(t)"
      ],
      "metadata": {
        "id": "rMDLBzFL-Ee1"
      },
      "execution_count": null,
      "outputs": []
    },
    {
      "cell_type": "code",
      "source": [
        "Pm1 = 0.5\n",
        "Pm2 = 0.5"
      ],
      "metadata": {
        "id": "9xY2Xi4N-GQS"
      },
      "execution_count": null,
      "outputs": []
    },
    {
      "cell_type": "code",
      "source": [
        "def Pm1Xt(t):\n",
        "  val = Pm1 * m1(t)\n",
        "  val = val / (Pm1*m1(t) + Pm2*m2(t))\n",
        "  return val"
      ],
      "metadata": {
        "id": "uIb1eeAx-IUS"
      },
      "execution_count": null,
      "outputs": []
    },
    {
      "cell_type": "code",
      "source": [
        "def Pm2Xt(t):\n",
        "  val = Pm2 * m2(t)\n",
        "  val = val / (Pm1*m1(t) + Pm2*m2(t))\n",
        "  return val"
      ],
      "metadata": {
        "id": "RfNp1PTr-KHV"
      },
      "execution_count": null,
      "outputs": []
    },
    {
      "cell_type": "markdown",
      "source": [
        "We win 2dollars on winning bet and loss $40 on lossing bet"
      ],
      "metadata": {
        "id": "o4-JwONl-PWr"
      }
    },
    {
      "cell_type": "code",
      "source": [
        "def sigmaapprox(t):\n",
        "  start = 20*math.floor((t-1)/20)+1                                                 \n",
        "  end = t\n",
        "  if start==t: \n",
        "    return 0  # no variance if there is only one data point\n",
        "  result = 1 / (end-start+1)\n",
        "  val = 0\n",
        "  for k in range(start,end+1):\n",
        "    i = k-1\n",
        "    val += df[1][i]*df[1][i]\n",
        "  result = result * val\n",
        "  result = math.sqrt(result)\n",
        "  \n",
        "  return result"
      ],
      "metadata": {
        "id": "3DsPYE8L-MPg"
      },
      "execution_count": null,
      "outputs": []
    },
    {
      "cell_type": "code",
      "source": [
        "def pg(t):\n",
        "  sigma = sigmaapprox(t)\n",
        "  if sigma==0:   # sigma = 0 means that we do not have any data yet to calculate sigma\n",
        "    return 0.0001  # very little probability of hitting target\n",
        "  def integrand(x):\n",
        "      result = 1 / (sigma*math.sqrt(2*math.pi))\n",
        "      result = result * math.exp(-x*x / (2*sigma*sigma))\n",
        "      return result\n",
        "  phi,err = quad(integrand,-float('inf'),-4)\n",
        "  result = 1 - 2*(phi)\n",
        "  if result>=1: \n",
        "    result = 0.999   # near certain of hitting the target\n",
        "  return result "
      ],
      "metadata": {
        "id": "32b22dKw-Sge"
      },
      "execution_count": null,
      "outputs": []
    },
    {
      "cell_type": "code",
      "source": [
        "def pc():\n",
        "  return 0.844"
      ],
      "metadata": {
        "id": "NvFooHOQ-WHf"
      },
      "execution_count": null,
      "outputs": []
    },
    {
      "cell_type": "code",
      "source": [
        "def compute_expValue(DA,beta,alpha1,alpha2,alpha3,lamda,t):\n",
        "  if t%20==0 or t%20==1: return 0   # t is the first or the last data point of a trial set\n",
        "  if t%20<4: DA=0\n",
        "  Pg = pg(t)\n",
        "  Pc = pc()\n",
        "  a = np.exp(-(-math.log(Pg))**alpha3)\n",
        "  b = lamda*np.exp(-(-math.log(1-Pg))**alpha3)\n",
        "  c = np.exp(-(-math.log(Pc))**alpha3)\n",
        "  d = lamda*np.exp(-(-math.log(1-Pc))**alpha3)\n",
        "  V = Pm1Xt(t-1)*(a*pow(2+DA,alpha1) - b*pow(40,alpha2)) + Pm2Xt(t-1)*(c*pow(2+DA,alpha1) - d*pow(40,alpha2))\n",
        "  return V # expected value"
      ],
      "metadata": {
        "id": "PU7dT_J--YRH"
      },
      "execution_count": null,
      "outputs": []
    },
    {
      "cell_type": "markdown",
      "source": [
        "We bet on trial t+1 if and only if Vt > 0 "
      ],
      "metadata": {
        "id": "aaFeOgJ8-bFu"
      }
    },
    {
      "cell_type": "code",
      "source": [
        "def predict(DA,beta,alpha1,alpha2,alpha3,lamda,starting,ending):\n",
        "  total = 0\n",
        "  plist = []  # list of outcomes (bet or not bet)\n",
        "  expList = []  # list of expected values for each time stamp\n",
        "  probList = []\n",
        "  for i in range(starting,ending): \n",
        "    # i is the time stamp. \n",
        "    Vt = compute_expValue(DA,beta,alpha1,alpha2,alpha3,lamda,i) # Computing expected value for timestamp i\n",
        "    #print(\"beta,Vt\", beta,Vt)\n",
        "    h = 1 / (1+math.exp(-beta*Vt)) \n",
        "    expList.append(Vt)\n",
        "    probList.append(h)\n",
        "    if h>0.5:\n",
        "      plist.append(1)\n",
        "      if df[1][i]<=4 and df[1][i]>=-4: # in the dataframe, index of data at time i+1 is i\n",
        "        total+=2 \n",
        "      else: \n",
        "        total-=40\n",
        "    else: plist.append(0)        # adding value for timestamp i+1\n",
        "  return (plist,expList,probList,total)       "
      ],
      "metadata": {
        "id": "W93Vy3xj-ZKY"
      },
      "execution_count": null,
      "outputs": []
    },
    {
      "cell_type": "code",
      "source": [
        ""
      ],
      "metadata": {
        "id": "lK_8lbSztVYg"
      },
      "execution_count": null,
      "outputs": []
    },
    {
      "cell_type": "markdown",
      "source": [
        "Now we train the model (the parameter DA)"
      ],
      "metadata": {
        "id": "psvm19zK-jY3"
      }
    },
    {
      "cell_type": "code",
      "source": [
        "Y = df[5]"
      ],
      "metadata": {
        "id": "Wxb08rUt-s3M"
      },
      "execution_count": null,
      "outputs": []
    },
    {
      "cell_type": "code",
      "source": [
        "def errorFunc(prediction, Y):  # cost function\n",
        "  total = 0\n",
        "  for i in range(0,160):  # i is timestamp\n",
        "    #total += -(Y[i]*math.log(prediction[i-1-160]) + (1-Y[i])*math.log(1-prediction[i-1-160]))\n",
        "    total += -(Y[i]*math.log(prediction[i]) + (1-Y[i])*math.log(1-prediction[i]))\n",
        "  total /= 160\n",
        "  return total  "
      ],
      "metadata": {
        "id": "aSt52UlX-qxg"
      },
      "execution_count": null,
      "outputs": []
    },
    {
      "cell_type": "code",
      "source": [
        "def derivative_cost_function(DA,beta,alpha1,alpha2,alpha3,lamda):  # gradient of cost function (used in gradient descent)\n",
        "  G_a1 = 0   # total gradient \n",
        "  G_a2 = 0\n",
        "  G_a3 = 0\n",
        "  G_L = 0\n",
        "  G_DA = 0\n",
        "  G_b = 0\n",
        "  plist,expList,probList,total = predict(DA,beta,alpha1,alpha2,alpha3,lamda,0,160)\n",
        "  \n",
        "  for i in range(1,160):  \n",
        "    if (i+1)%20<5: continue\n",
        "    pm1 = Pm1Xt(i-1)\n",
        "    pm2 = Pm2Xt(i-1)\n",
        "    Pg = pg(i)\n",
        "    Pc = pc()\n",
        "    #V = compute_expValue(i-1,a1,a2,a3,L)\n",
        "    d_a1 = pm1*(np.exp(-(-math.log(Pg))**alpha3)*(2+DA)**alpha1*math.log(2+DA)) + pm2*(np.exp(-(-math.log(Pc))**alpha3)*(2+DA)**alpha1*math.log(2+DA))          #Derivative(V,a1)\n",
        "    d_a2 = -pm1*lamda*(np.exp(-(-math.log(1-Pg))**alpha3)*40**alpha2) - pm2*lamda*(np.exp(-(-math.log(1-Pc))**alpha3)*40**alpha2)\n",
        "    d_a3 = pm1*(-(-math.log(Pg))**alpha3*math.log(-math.log(Pg))*np.exp(-(-math.log(Pg))**alpha3)*(2+DA)**alpha1 + lamda*(-math.log(1-Pg))**alpha3*math.log(-math.log(1-Pg))*np.exp(-(-math.log(1-Pg))**alpha3)*40**alpha2) + pm2*(-(-math.log(Pc))**alpha3*math.log(-math.log(Pc))*np.exp(-(-math.log(Pc))**alpha3)*(2+DA)**alpha1 + lamda*(-math.log(1-Pc))**alpha3*math.log(-math.log(1-Pc))*np.exp(-(-math.log(1-Pc))**alpha3)*40**alpha2)\n",
        "    d_L = pm1*np.exp(-(-math.log(1-Pg))**alpha3)*40**alpha2 + pm2*np.exp(-(-math.log(1-Pc))**alpha3)*40**alpha2\n",
        "    #d_DA = pm1*(np.exp(-(-math.log(Pg))**alpha3)*alpha1*(2+DA)**(alpha1-1)) + pm2*(np.exp(-(-math.log(Pc))**alpha3)*alpha1*(2+DA)**(alpha1-1))\n",
        "    d_DA = (pg(i-1)*Pm1Xt(i-2) + pc()*Pm2Xt(i-2))\n",
        "    \n",
        "    G_a1 += (probList[i]-Y[i])*beta*d_a1/160\n",
        "    G_a2 += (probList[i]-Y[i])*beta*d_a2/160\n",
        "    G_a3 += (probList[i]-Y[i])*beta*d_a3/160\n",
        "    G_L += (probList[i]-Y[i])*beta*d_L/160\n",
        "    G_DA += (probList[i]-Y[i])*beta*d_DA\n",
        "    G_b += (probList[i]-Y[i])*expList[i]\n",
        "  \n",
        "  G_a1 /= 160\n",
        "  G_a2 /= 160\n",
        "  G_a3 /= 160\n",
        "  G_L /= 160 \n",
        "  G_DA /= 160\n",
        "  G_b /=160\n",
        "  #print('G_a1,G_a2,G_a3,G_L', G_a1,G_a2,G_a3,G_L)\n",
        "  return (G_DA,G_b,G_a1,G_a2,G_a3,G_L)"
      ],
      "metadata": {
        "id": "sIr-jV2xXQfA"
      },
      "execution_count": null,
      "outputs": []
    },
    {
      "cell_type": "markdown",
      "source": [
        "gradient descent"
      ],
      "metadata": {
        "id": "jHEUsWO-XOHs"
      }
    },
    {
      "cell_type": "code",
      "source": [
        "DA = 0.01\n",
        "alpha1,alpha2,alpha3,lamda = 1.0,1.0,1.0,1.0\n",
        "beta = 1\n",
        "alpha = 0.1\n",
        "i = 0\n",
        "while True:\n",
        "  if DA>=5: break\n",
        "  \n",
        "  if i==0:\n",
        "    pre_DA,pre_beta,pre_a1,pre_a2,pre_a3,pre_L = DA,beta,alpha1,alpha2,alpha3,lamda\n",
        "    i+=1\n",
        "  else:\n",
        "    G_DA,G_b,G_a1,G_a2,G_a3,G_L = derivative_cost_function(DA,beta,alpha1,alpha2,alpha3,lamda)\n",
        "    DA = DA - alpha*G_DA\n",
        "    beta = beta - alpha*G_b\n",
        "    temp1 = alpha1 - alpha*G_a1\n",
        "    temp2 = alpha2 - alpha*G_a2\n",
        "    temp3 = alpha3 - alpha*G_a3\n",
        "    temp4 = lamda - alpha*G_L\n",
        "    alpha1,alpha2,alpha3,lamda = temp1,temp2,temp3,temp4\n",
        "    if alpha1>1: alpha1 = 1\n",
        "    if alpha2>1: alpha2 = 1\n",
        "    if alpha3>1: alpha3 = 1\n",
        "    if lamda<=1: lamda = 1.01\n",
        "    if DA<=0: \n",
        "      DA=0.01\n",
        "      break\n",
        "    # abs(alpha1-pre_a1)<1e-3 or abs(alpha2-pre_a2)<1e-3 or abs(alpha3-pre_a3)<1e-3 or abs(lamda-pre_L)<1e-3 \n",
        "    print(\"DA, beta, alpha1, alpha2, alpha3, lamda: \",DA,beta,alpha1,alpha2,alpha3,lamda)\n",
        "    if abs(DA-pre_DA)<1e-3 or abs(beta-pre_beta)<1e-3: break\n",
        "    else: pre_DA,pre_beta,pre_a1,pre_a2,pre_a3,pre_L = DA,beta,alpha1,alpha2,alpha3,lamda\n",
        "    i+=1\n",
        "print(\"DA, beta, alpha1, alpha2, alpha3, lamda: \",DA,beta,alpha1,alpha2,alpha3,lamda)"
      ],
      "metadata": {
        "id": "QWEsA2p4ZIm2"
      },
      "execution_count": null,
      "outputs": []
    },
    {
      "cell_type": "markdown",
      "source": [
        "Tesing the resulting model on remaining 7 sessions and calculating accuracy score"
      ],
      "metadata": {
        "id": "11mjqWIBcyY5"
      }
    },
    {
      "cell_type": "code",
      "source": [
        "plist,expList,probList,total = predict(0,beta,alpha1,alpha2,alpha3,lamda,160,300)   # prediction\n",
        "\n",
        "print(len(plist))\n",
        "print(total)"
      ],
      "metadata": {
        "id": "Xi_V4qPLZ2HA"
      },
      "execution_count": null,
      "outputs": []
    },
    {
      "cell_type": "code",
      "source": [
        "print(plist)"
      ],
      "metadata": {
        "id": "M-2s9IYJdAFQ"
      },
      "execution_count": null,
      "outputs": []
    },
    {
      "cell_type": "code",
      "source": [
        "\n",
        "total = 0\n",
        "Y = df[5]\n",
        "print(Y[12]) \n",
        "for i in range(0,140):  # we will have to change it to (0,160) when the dataset has a length of 320\n",
        "  if (plist[i]==0 and Y[i+160]==0) or (plist[i]==1 and Y[i+160]==1): total+=1\n",
        "print(\"The accuracy score of the base model with CbD is: \",total/140*100,\"%\")   # similarly here 140 -> 160"
      ],
      "metadata": {
        "id": "u_lMk7H0dEMb"
      },
      "execution_count": null,
      "outputs": []
    },
    {
      "cell_type": "code",
      "source": [
        ""
      ],
      "metadata": {
        "id": "R1cjvmEI75Fj"
      },
      "execution_count": null,
      "outputs": []
    }
  ]
}