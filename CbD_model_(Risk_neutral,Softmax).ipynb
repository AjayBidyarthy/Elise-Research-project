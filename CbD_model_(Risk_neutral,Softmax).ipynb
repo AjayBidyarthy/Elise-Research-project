{
  "cells": [
    {
      "cell_type": "code",
      "source": [
        "!pip install --upgrade xlrd"
      ],
      "metadata": {
        "id": "bszztiTCUnRL"
      },
      "execution_count": null,
      "outputs": []
    },
    {
      "cell_type": "code",
      "execution_count": null,
      "metadata": {
        "id": "GkpK3vB_8fHw"
      },
      "outputs": [],
      "source": [
        "import pandas as pd\n",
        "import numpy as np\n",
        "import math\n",
        "from scipy.integrate import quad"
      ]
    },
    {
      "cell_type": "code",
      "execution_count": null,
      "metadata": {
        "id": "ibVl0l-G91Vf",
        "colab": {
          "base_uri": "https://localhost:8080/"
        },
        "outputId": "e54a02e6-1ab9-4091-f853-cb832ef893e3"
      },
      "outputs": [
        {
          "output_type": "stream",
          "name": "stdout",
          "text": [
            "Mounted at /content/drive\n"
          ]
        }
      ],
      "source": [
        "from google.colab import drive\n",
        "drive.mount('/content/drive')"
      ]
    },
    {
      "cell_type": "code",
      "execution_count": null,
      "metadata": {
        "id": "mdLM-F-892Ah"
      },
      "outputs": [],
      "source": [
        "df = pd.read_excel(r'/content/drive/MyDrive/Data_BlackKoffer_intern/DATA1/37.xls',sheet_name='results',header=None)\n",
        "df"
      ]
    },
    {
      "cell_type": "code",
      "execution_count": null,
      "metadata": {
        "id": "MDSY56zh97P4"
      },
      "outputs": [],
      "source": [
        "def f1(sigma,t):   # t is the timestamp\n",
        "  result = 1\n",
        "  for k in range(20*math.floor((t-1)/20)+1, t+1):  # we want it to go from start ... t, that's why used t+1                  \n",
        "    i = k-1  # id of data point, since k is id+1 (k is in column no.0 which is id+1)\n",
        "    val = math.exp(-df[1][i]*df[1][i] / (2*sigma*sigma))\n",
        "    val = val / (math.sqrt(2*math.pi)*sigma)\n",
        "    result = result * val\n",
        "  return result"
      ]
    },
    {
      "cell_type": "code",
      "execution_count": null,
      "metadata": {
        "id": "DTUzzrYA-AQm"
      },
      "outputs": [],
      "source": [
        "def f2(t):\n",
        "  result = 1\n",
        "  for k in range(20*math.floor((t-1)/20)+1, t+1):                                   # \n",
        "    i = k-1\n",
        "    val = math.pi*(1 + df[1][i]*df[1][i])\n",
        "    val = 1 / val\n",
        "    result = result * val\n",
        "  return result"
      ]
    },
    {
      "cell_type": "code",
      "execution_count": null,
      "metadata": {
        "id": "urFg5TUj-Cbg"
      },
      "outputs": [],
      "source": [
        "def m1(t):\n",
        "  val = lambda t : quad(f1, 0.1,2, args=(t,))\n",
        "  ans,err = val(t)\n",
        "  return (1/1.9)*ans"
      ]
    },
    {
      "cell_type": "code",
      "execution_count": null,
      "metadata": {
        "id": "rMDLBzFL-Ee1"
      },
      "outputs": [],
      "source": [
        "def m2(t):\n",
        "  return f2(t)"
      ]
    },
    {
      "cell_type": "code",
      "execution_count": null,
      "metadata": {
        "id": "9xY2Xi4N-GQS"
      },
      "outputs": [],
      "source": [
        "Pm1 = 0.5\n",
        "Pm2 = 0.5"
      ]
    },
    {
      "cell_type": "code",
      "execution_count": null,
      "metadata": {
        "id": "uIb1eeAx-IUS"
      },
      "outputs": [],
      "source": [
        "def Pm1Xt(t):\n",
        "  val = Pm1 * m1(t)\n",
        "  val = val / (Pm1*m1(t) + Pm2*m2(t))\n",
        "  return val"
      ]
    },
    {
      "cell_type": "code",
      "execution_count": null,
      "metadata": {
        "id": "RfNp1PTr-KHV"
      },
      "outputs": [],
      "source": [
        "def Pm2Xt(t):\n",
        "  val = Pm2 * m2(t)\n",
        "  val = val / (Pm1*m1(t) + Pm2*m2(t))\n",
        "  return val"
      ]
    },
    {
      "cell_type": "markdown",
      "metadata": {
        "id": "o4-JwONl-PWr"
      },
      "source": [
        "We win 2dollars on winning bet and loss $40 on lossing bet"
      ]
    },
    {
      "cell_type": "code",
      "execution_count": null,
      "metadata": {
        "id": "3DsPYE8L-MPg"
      },
      "outputs": [],
      "source": [
        "def sigmaapprox(t):\n",
        "  start = 20*math.floor((t-1)/20)+1                                                 \n",
        "  end = t\n",
        "  if start==t: \n",
        "    return 0  # no variance if there is only one data point\n",
        "  result = 1 / (end-start+1)\n",
        "  val = 0\n",
        "  for k in range(start,end+1):\n",
        "    i = k-1\n",
        "    val += df[1][i]*df[1][i]\n",
        "  result = result * val\n",
        "  result = math.sqrt(result)\n",
        "  \n",
        "  return result"
      ]
    },
    {
      "cell_type": "code",
      "execution_count": null,
      "metadata": {
        "id": "32b22dKw-Sge"
      },
      "outputs": [],
      "source": [
        "def pg(t):\n",
        "  sigma = sigmaapprox(t)\n",
        "  if sigma==0:\n",
        "    return 0\n",
        "  def integrand(x):\n",
        "      result = 1 / (sigma*math.sqrt(2*math.pi))\n",
        "      result = result * math.exp(-x*x / (2*sigma*sigma))\n",
        "      return result\n",
        "  phi,err = quad(integrand,-float('inf'),4)\n",
        "  result = 1 - 2*(1-phi)\n",
        "  \n",
        "  return result  "
      ]
    },
    {
      "cell_type": "code",
      "execution_count": null,
      "metadata": {
        "id": "NvFooHOQ-WHf"
      },
      "outputs": [],
      "source": [
        "def pc():\n",
        "  return 0.844"
      ]
    },
    {
      "cell_type": "code",
      "execution_count": null,
      "metadata": {
        "id": "PU7dT_J--YRH"
      },
      "outputs": [],
      "source": [
        "def compute_expValue(beta, DA, t):\n",
        "  if t%20==0 or t%20==1: return 0   # t is the first or the last data point of a trial set\n",
        "  Pg = pg(t)\n",
        "  Pc = pc()\n",
        "  if t%20<5: DA=0\n",
        "  V = Pm1Xt(t-1)*((2+DA)*Pg - (1-Pg)*40) + Pm2Xt(t-1)*((2+DA)*Pc-(1-Pc)*40)\n",
        "  return V # expected value"
      ]
    },
    {
      "cell_type": "markdown",
      "metadata": {
        "id": "aaFeOgJ8-bFu"
      },
      "source": [
        "We bet on trial t+1 if and only if Vt > 0 "
      ]
    },
    {
      "cell_type": "code",
      "execution_count": null,
      "metadata": {
        "id": "W93Vy3xj-ZKY"
      },
      "outputs": [],
      "source": [
        "\n",
        "def predict(beta,DA,starting,ending):\n",
        "  total = 0\n",
        "  plist = []  # list of outcomes (bet or not bet)\n",
        "  expList = []  # list of expected values for each time stamp\n",
        "  probList = []\n",
        "  for i in range(starting,ending): \n",
        "    # i is the time stamp. \n",
        "    Vt = compute_expValue(beta,DA,i) # Computing expected value for timestamp i\n",
        "    prob = 1 / (1 + math.exp(-beta*Vt))\n",
        "    expList.append(Vt)\n",
        "    probList.append(prob)\n",
        "    if prob>0.5:\n",
        "      plist.append(1)\n",
        "      if df[1][i]<=4 and df[1][i]>=-4: # in the dataframe, index of data at time i+1 is i\n",
        "        total+=2 \n",
        "      else: \n",
        "        total-=40\n",
        "    else: plist.append(0)        # adding value for timestamp i+1\n",
        "  return (plist,expList,probList,total)       "
      ]
    },
    {
      "cell_type": "code",
      "execution_count": null,
      "metadata": {
        "id": "lK_8lbSztVYg"
      },
      "outputs": [],
      "source": [
        ""
      ]
    },
    {
      "cell_type": "markdown",
      "metadata": {
        "id": "psvm19zK-jY3"
      },
      "source": [
        "Now we train the model (the parameter DA)"
      ]
    },
    {
      "cell_type": "code",
      "execution_count": null,
      "metadata": {
        "id": "Wxb08rUt-s3M"
      },
      "outputs": [],
      "source": [
        "Y = df[5]"
      ]
    },
    {
      "cell_type": "code",
      "execution_count": null,
      "metadata": {
        "id": "aSt52UlX-qxg"
      },
      "outputs": [],
      "source": [
        "def errorFunc(prediction, Y):  # cost function\n",
        "  total = 0\n",
        "  for i in range(3,160):  # i is timestamp\n",
        "    #total += -(Y[i+160]*math.log(prediction[i-1]) + (1-Y[i+160])*math.log(1-prediction[i-1]))\n",
        "    total += -(Y[i]*math.log(prediction[i]) + (1-Y[i])*math.log(1-prediction[i]))\n",
        "  total /= 160\n",
        "\n",
        "  return total  "
      ]
    },
    {
      "cell_type": "code",
      "execution_count": null,
      "metadata": {
        "id": "Zd7Aw9vnTEJo"
      },
      "outputs": [],
      "source": [
        "def derivative_cost_function(beta,DA):  # gradient of cost function (used in gradient descent)\n",
        "  G_DA = 0\n",
        "  G_b = 0\n",
        "  plist,expList,probList,total = predict(beta,DA,0,160)\n",
        "  for i in range(3,160):\n",
        "    if (i+1)%20<5: continue\n",
        "    #G_b += (expList[i-1-160]-Y[i])*(expList[i-1-160])\n",
        "    #G_DA += (expList[i-1-160]-Y[i])*beta*(pg(i-1)*Pm1Xt(i-2) + pc()*Pm2Xt(i-2))\n",
        "    G_b += (probList[i]-Y[i])*(expList[i])\n",
        "    G_DA += (probList[i]-Y[i])*beta*(pg(i)*Pm1Xt(i-1) + pc()*Pm2Xt(i-1))\n",
        "  G_b = G_b/160\n",
        "  G_DA = G_DA/160 \n",
        "  return (G_DA,G_b)"
      ]
    },
    {
      "cell_type": "markdown",
      "metadata": {
        "id": "jHEUsWO-XOHs"
      },
      "source": [
        "gradient descent"
      ]
    },
    {
      "cell_type": "code",
      "execution_count": null,
      "metadata": {
        "id": "sIr-jV2xXQfA"
      },
      "outputs": [],
      "source": [
        "DA = 0.01\n",
        "beta = 1\n",
        "alpha = 0.05\n",
        "i = 0\n",
        "while True:\n",
        "  \n",
        "  if DA>=5: break\n",
        "  \n",
        "  if i==0:\n",
        "    pre_DA = DA\n",
        "    pre_beta = beta\n",
        "    i+=1\n",
        "  else:\n",
        "    G_DA,G_b = derivative_cost_function(beta,DA)\n",
        "    DA = DA - alpha*G_DA\n",
        "    beta = beta - alpha*G_b\n",
        "    print(\"DA, beta: \",DA,beta)\n",
        "\n",
        "    if abs(DA-pre_DA)<1e-3 or abs(beta-pre_beta)<1e-3: break\n",
        "    else: \n",
        "      pre_DA = DA\n",
        "      pre_beta = beta\n",
        "    i+=1\n",
        "if DA<0: DA = 0.01    "
      ]
    },
    {
      "cell_type": "markdown",
      "metadata": {
        "id": "11mjqWIBcyY5"
      },
      "source": [
        "Tesing the resulting model on remaining 7 sessions and calculating accuracy score"
      ]
    },
    {
      "cell_type": "code",
      "execution_count": null,
      "metadata": {
        "id": "Xi_V4qPLZ2HA"
      },
      "outputs": [],
      "source": [
        "plist,expList,probList,total = predict(beta,DA,160,300)   # prediction\n",
        "\n",
        "print(len(plist))\n",
        "print(total)"
      ]
    },
    {
      "cell_type": "code",
      "execution_count": null,
      "metadata": {
        "id": "M-2s9IYJdAFQ"
      },
      "outputs": [],
      "source": [
        "print(plist)"
      ]
    },
    {
      "cell_type": "code",
      "execution_count": null,
      "metadata": {
        "id": "u_lMk7H0dEMb"
      },
      "outputs": [],
      "source": [
        "total = 0\n",
        "Y = df[5]\n",
        "print(Y[12]) \n",
        "for i in range(0,140):  # we will have to change it to (0,160) when the dataset has a length of 320\n",
        "  if (plist[i]==0 and Y[i+160]==0) or (plist[i]==1 and Y[i+160]==1): total+=1\n",
        "print(\"The accuracy score of the base model with CbD is: \",total/140*100,\"%\")   # similarly here 140 -> 160"
      ]
    },
    {
      "cell_type": "code",
      "source": [
        ""
      ],
      "metadata": {
        "id": "dWiTEjURDRGH"
      },
      "execution_count": null,
      "outputs": []
    }
  ],
  "metadata": {
    "accelerator": "GPU",
    "colab": {
      "collapsed_sections": [],
      "name": " CbD model (Risk neutral,Softmax).ipynb",
      "provenance": []
    },
    "kernelspec": {
      "display_name": "Python 3",
      "name": "python3"
    },
    "language_info": {
      "name": "python"
    }
  },
  "nbformat": 4,
  "nbformat_minor": 0
}