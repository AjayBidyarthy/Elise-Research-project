{
  "nbformat": 4,
  "nbformat_minor": 0,
  "metadata": {
    "colab": {
      "name": "CbD model (risk neutral, softmax, modified probability function)",
      "provenance": [],
      "collapsed_sections": []
    },
    "kernelspec": {
      "name": "python3",
      "display_name": "Python 3"
    },
    "language_info": {
      "name": "python"
    }
  },
  "cells": [
    {
      "cell_type": "code",
      "source": [
        "!pip install --upgrade xlrd"
      ],
      "metadata": {
        "id": "kqQcERT2UJHw",
        "colab": {
          "base_uri": "https://localhost:8080/"
        },
        "outputId": "dcdde315-c03f-41ef-c36f-206cc5f4f415"
      },
      "execution_count": null,
      "outputs": [
        {
          "output_type": "stream",
          "name": "stdout",
          "text": [
            "Requirement already satisfied: xlrd in /usr/local/lib/python3.7/dist-packages (1.1.0)\n",
            "Collecting xlrd\n",
            "  Downloading xlrd-2.0.1-py2.py3-none-any.whl (96 kB)\n",
            "\u001b[K     |████████████████████████████████| 96 kB 4.4 MB/s \n",
            "\u001b[?25hInstalling collected packages: xlrd\n",
            "  Attempting uninstall: xlrd\n",
            "    Found existing installation: xlrd 1.1.0\n",
            "    Uninstalling xlrd-1.1.0:\n",
            "      Successfully uninstalled xlrd-1.1.0\n",
            "Successfully installed xlrd-2.0.1\n"
          ]
        }
      ]
    },
    {
      "cell_type": "code",
      "execution_count": null,
      "metadata": {
        "id": "4NkHLwRSUuhT"
      },
      "outputs": [],
      "source": [
        "import pandas as pd\n",
        "import numpy as np\n",
        "import math\n",
        "from scipy.integrate import quad"
      ]
    },
    {
      "cell_type": "code",
      "source": [
        "from google.colab import drive\n",
        "drive.mount('/content/drive')"
      ],
      "metadata": {
        "id": "BpTZqLUoXstD",
        "colab": {
          "base_uri": "https://localhost:8080/"
        },
        "outputId": "608be516-204f-4b11-9898-7e3f7203488c"
      },
      "execution_count": null,
      "outputs": [
        {
          "output_type": "stream",
          "name": "stdout",
          "text": [
            "Mounted at /content/drive\n"
          ]
        }
      ]
    },
    {
      "cell_type": "code",
      "source": [
        "df = pd.read_excel(r'/content/drive/MyDrive/Data_BlackKoffer_intern/Penny Pickers_EXPE5/12.xls',sheet_name='results',header=None)\n",
        "df"
      ],
      "metadata": {
        "id": "madamj7fXu5Y"
      },
      "execution_count": null,
      "outputs": []
    },
    {
      "cell_type": "code",
      "source": [
        "Vt = 0"
      ],
      "metadata": {
        "id": "3wedk_8ucLHr"
      },
      "execution_count": null,
      "outputs": []
    },
    {
      "cell_type": "code",
      "source": [
        "def f1(sigma,t):   # when we use this function, t will go from 1 till 300 (not 0-299)\n",
        "  result = 1\n",
        "  for k in range(20*math.floor((t-1)/20)+1, t+1):  # we want it to go from start ... t, that's why used t+1                  \n",
        "    i = k-1  # id of data point, since k is id+1 (k is in column no.0 which is id+1)\n",
        "    val = math.exp(-df[1][i]*df[1][i] / (2*sigma*sigma))\n",
        "    val = val / (math.sqrt(2*math.pi)*sigma)\n",
        "    result = result * val\n",
        "  return result"
      ],
      "metadata": {
        "id": "yaVKMAosevAG"
      },
      "execution_count": null,
      "outputs": []
    },
    {
      "cell_type": "code",
      "source": [
        "def f2(t):\n",
        "  result = 1\n",
        "  for k in range(20*math.floor((t-1)/20)+1, t+1):                                   # \n",
        "    i = k-1\n",
        "    val = math.pi*(1 + df[1][i]*df[1][i])\n",
        "    val = 1 / val\n",
        "    result = result * val\n",
        "  return result"
      ],
      "metadata": {
        "id": "U66htWVJhzyB"
      },
      "execution_count": null,
      "outputs": []
    },
    {
      "cell_type": "code",
      "source": [
        "def m1(t):\n",
        "  val = lambda t : quad(f1, 0.1,2, args=(t,))\n",
        "  ans,err = val(t)\n",
        "  return (1/1.9)*ans"
      ],
      "metadata": {
        "id": "cX_Dz7LGinAr"
      },
      "execution_count": null,
      "outputs": []
    },
    {
      "cell_type": "code",
      "source": [
        "def m2(t):\n",
        "  return f2(t)"
      ],
      "metadata": {
        "id": "6UiKLljclNFP"
      },
      "execution_count": null,
      "outputs": []
    },
    {
      "cell_type": "code",
      "source": [
        "Pm1 = 0.5\n",
        "Pm2 = 0.5"
      ],
      "metadata": {
        "id": "1OyHAp0kl2EY"
      },
      "execution_count": null,
      "outputs": []
    },
    {
      "cell_type": "code",
      "source": [
        "def Pm1Xt(t):\n",
        "  val = Pm1 * m1(t)\n",
        "  val = val / (Pm1*m1(t) + Pm2*m2(t))\n",
        "  return val"
      ],
      "metadata": {
        "id": "GMjiRKdElYmm"
      },
      "execution_count": null,
      "outputs": []
    },
    {
      "cell_type": "code",
      "source": [
        "def Pm2Xt(t):\n",
        "  val = Pm2 * m2(t)\n",
        "  val = val / (Pm1*m1(t) + Pm2*m2(t))\n",
        "  return val"
      ],
      "metadata": {
        "id": "A5czBkC2mCbG"
      },
      "execution_count": null,
      "outputs": []
    },
    {
      "cell_type": "markdown",
      "source": [
        "We win 2dollars on winning bet and loss $40 on lossing bet"
      ],
      "metadata": {
        "id": "ChxzJtXeoQF8"
      }
    },
    {
      "cell_type": "code",
      "source": [
        "def sigmaapprox(t):\n",
        "  start = 20*math.floor((t-1)/20)+1                                                # \n",
        "  end = t\n",
        "  if start==t: \n",
        "    return 0  # no variance if there is only one data point\n",
        "  result = 1 / (end-start+1)\n",
        "  val = 0\n",
        "  for k in range(start,end+1):\n",
        "    i = k-1\n",
        "    val += df[1][i]*df[1][i]\n",
        "  result = result * val\n",
        "  result = math.sqrt(result)\n",
        "  \n",
        "  return result"
      ],
      "metadata": {
        "id": "tQcn1QJBmKBp"
      },
      "execution_count": null,
      "outputs": []
    },
    {
      "cell_type": "code",
      "source": [
        "def pg(t):\n",
        "  sigma = sigmaapprox(t)\n",
        "  if sigma==0:\n",
        "    return 0\n",
        "  def integrand(x):\n",
        "      result = 1 / (sigma*math.sqrt(2*math.pi))\n",
        "      result = result * math.exp(-x*x / (2*sigma*sigma))\n",
        "      return result\n",
        "  phi,err = quad(integrand,-float('inf'),4)\n",
        "  result = 1 - 2*(1-phi)\n",
        "  \n",
        "  return result    "
      ],
      "metadata": {
        "id": "tqXyyw1hHZTE"
      },
      "execution_count": null,
      "outputs": []
    },
    {
      "cell_type": "code",
      "source": [
        "def pc():\n",
        "  return 0.844"
      ],
      "metadata": {
        "id": "NCu_O1D4J1mF"
      },
      "execution_count": null,
      "outputs": []
    },
    {
      "cell_type": "code",
      "source": [
        "def compute_expValue(t):\n",
        "  if t%20==0 or t%20==1: return 0   # t is the first data point of a trial set\n",
        "  Pg = pg(t)\n",
        "  Pc = pc()\n",
        "  V = Pm1Xt(t-1) * (2*Pg - (1-Pg)*40) + Pm2Xt(t-1) * (2*Pc - (1-Pc)*40)\n",
        "  \n",
        "  return V # exp value"
      ],
      "metadata": {
        "id": "dR0eyK8IKAM8"
      },
      "execution_count": null,
      "outputs": []
    },
    {
      "cell_type": "markdown",
      "source": [
        "We bet on trial t+1 if and only if Vt > 0 "
      ],
      "metadata": {
        "id": "Jlz42Vz6K67K"
      }
    },
    {
      "cell_type": "code",
      "source": [
        "\n",
        "def predict(start,end,DA,beta):\n",
        "  total = 0\n",
        "  plist = []\n",
        "  probBaseList = []\n",
        "  probList = []\n",
        "  for i in range(start,end):\n",
        "    # i is the time stamp\n",
        "    if i%20<5: DA=0\n",
        "    Vt = compute_expValue(i)\n",
        "    prob_base = math.exp(beta*Vt) / (1 + math.exp(beta*Vt))\n",
        "    prob = DA+(1-DA)*prob_base\n",
        "    probBaseList.append(prob_base)\n",
        "    probList.append(prob)\n",
        "    if prob>0.5:\n",
        "      plist.append(1)\n",
        "      if df[1][i]<=4 and df[1][i]>=-4: \n",
        "        total+=2\n",
        "      else: \n",
        "        total-=40\n",
        "    else: plist.append(0)        \n",
        "  return (plist,probBaseList,probList,total)       "
      ],
      "metadata": {
        "id": "l9DpehsSLDxh"
      },
      "execution_count": null,
      "outputs": []
    },
    {
      "cell_type": "markdown",
      "source": [
        "Now we train the model (the parameter beta)"
      ],
      "metadata": {
        "id": "_EpEWF4PEvJL"
      }
    },
    {
      "cell_type": "code",
      "source": [
        "Y = df[5]"
      ],
      "metadata": {
        "id": "_6fIFcVZJpfi"
      },
      "execution_count": null,
      "outputs": []
    },
    {
      "cell_type": "code",
      "source": [
        "def cost_func(prediction,Y):\n",
        "  total = 0\n",
        "  for i in range(1,160):  # i is timestamp\n",
        "    total -= (Y[i]*math.log(prediction[i]) + (1-Y[i])*math.log(1-prediction[i]))\n",
        "\n",
        "  total /= 160\n",
        "  return total"
      ],
      "metadata": {
        "id": "v-8aPlj7_d3C"
      },
      "execution_count": null,
      "outputs": []
    },
    {
      "cell_type": "code",
      "source": [
        "def gradient_cost_func(DA,beta):\n",
        "  grad_DA = 0\n",
        "  grad_beta = 0\n",
        "  plist,probBaseList,probList,total = predict(0,160,DA,beta)\n",
        "  for i in range(3,160):\n",
        "    if i%20<5: DA=0\n",
        "    grad_DA += (probList[i]-Y[i])/(probList[i]*(1-probList[i]))*(1-probBaseList[i])\n",
        "    grad_beta += (probList[i]-Y[i])/(probList[i]*(1-probList[i]))*(1-DA)*probBaseList[i]*(1-probBaseList[i])*compute_expValue(i)\n",
        "  \n",
        "  grad_DA/=160 \n",
        "  grad_beta/=160 \n",
        "  return (grad_DA,grad_beta)"
      ],
      "metadata": {
        "id": "x3f4DaNCArew"
      },
      "execution_count": null,
      "outputs": []
    },
    {
      "cell_type": "code",
      "source": [
        "DA,beta = 0,1\n",
        "alpha = 0.001\n",
        "i = 0\n",
        "while True:\n",
        "  if i==100: break\n",
        "  if i==0:\n",
        "    pre_DA = DA\n",
        "    pre_beta = beta\n",
        "    i+=1\n",
        "  else:\n",
        "    grad_DA, grad_beta = gradient_cost_func(DA,beta)\n",
        "    if DA>=1:\n",
        "      DA=0.99\n",
        "      break\n",
        "    DA = DA - alpha*grad_DA\n",
        "    beta = beta - alpha*grad_beta\n",
        "    if DA<=0: \n",
        "      DA=0.01\n",
        "      break\n",
        "    print(\"DA,beta: \",DA,beta)\n",
        "    if abs(beta-pre_beta)<1e-3 and abs(DA-pre_DA)<1e-3: break\n",
        "    else:\n",
        "      pre_DA = DA\n",
        "      pre_beta = beta\n",
        "    i+=1\n",
        "if DA<0.01: DA = 0.01\n",
        "print(\"DA,beta: \",DA,beta)    "
      ],
      "metadata": {
        "id": "Rw1msEZXEn_k"
      },
      "execution_count": null,
      "outputs": []
    },
    {
      "cell_type": "markdown",
      "source": [
        "Now we get the results"
      ],
      "metadata": {
        "id": "0e1t7MaA_Z4O"
      }
    },
    {
      "cell_type": "code",
      "source": [
        "plist,probBaseList,probList,total = predict(160,300,DA,beta)\n",
        "\n",
        "print(len(plist))\n",
        "print(total)"
      ],
      "metadata": {
        "id": "hv4qmED4eyvS"
      },
      "execution_count": null,
      "outputs": []
    },
    {
      "cell_type": "code",
      "source": [
        "print(plist)"
      ],
      "metadata": {
        "id": "SsyLoGxFg3fX"
      },
      "execution_count": null,
      "outputs": []
    },
    {
      "cell_type": "code",
      "source": [
        "Y = df[5]\n",
        "print(Y[0])  "
      ],
      "metadata": {
        "id": "tPGD42VNfybn"
      },
      "execution_count": null,
      "outputs": []
    },
    {
      "cell_type": "code",
      "source": [
        "total = 0\n",
        "for i in range(0,140):\n",
        "  if (plist[i]==0 and Y[i+160]==0) or (plist[i]==1 and Y[i+160]==1): total+=1\n",
        "print(\"The accuracy score of the base model is: \",total/140*100,\"%\")  "
      ],
      "metadata": {
        "id": "UfNFjztFi4o_"
      },
      "execution_count": null,
      "outputs": []
    },
    {
      "cell_type": "code",
      "source": [
        ""
      ],
      "metadata": {
        "id": "T42IwkJkX-o0"
      },
      "execution_count": null,
      "outputs": []
    }
  ]
}