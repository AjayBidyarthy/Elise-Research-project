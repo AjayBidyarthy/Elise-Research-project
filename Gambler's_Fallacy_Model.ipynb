{
  "nbformat": 4,
  "nbformat_minor": 0,
  "metadata": {
    "colab": {
      "name": "Gambler's Fallacy Model.ipynb",
      "provenance": [],
      "collapsed_sections": []
    },
    "kernelspec": {
      "name": "python3",
      "display_name": "Python 3"
    },
    "language_info": {
      "name": "python"
    }
  },
  "cells": [
    {
      "cell_type": "code",
      "source": [
        "!pip install --upgrade xlrd"
      ],
      "metadata": {
        "id": "TCXAbTYYU3Os"
      },
      "execution_count": null,
      "outputs": []
    },
    {
      "cell_type": "code",
      "execution_count": null,
      "metadata": {
        "id": "0qCyrRWWou5r"
      },
      "outputs": [],
      "source": [
        "import pandas as pd\n",
        "import numpy as np\n",
        "import math\n",
        "from scipy.integrate import quad"
      ]
    },
    {
      "cell_type": "code",
      "source": [
        "from google.colab import drive\n",
        "drive.mount('/content/drive')"
      ],
      "metadata": {
        "id": "eIbXDVwpxxC2"
      },
      "execution_count": null,
      "outputs": []
    },
    {
      "cell_type": "code",
      "source": [
        "df = pd.read_excel(r'/content/drive/MyDrive/Data_BlackKoffer_intern/Penny Pickers_EXPE5/41.xls',sheet_name='results',header=None)\n",
        "df"
      ],
      "metadata": {
        "id": "KfeO7AvWxzTc"
      },
      "execution_count": null,
      "outputs": []
    },
    {
      "cell_type": "code",
      "source": [
        "n_array = [0]*21\n",
        "if df[1][0]>=-4 and df[1][0]<=4: n_array[1] = 94\n",
        "else: n_array[1] = 95\n",
        "if df[1][1]>=-4 and df[1][1]<=4: n_array[2] = n_array[1] - 1\n",
        "else: n_array[2] = n_array[1]"
      ],
      "metadata": {
        "id": "sy6yT-Pzx3H_"
      },
      "execution_count": null,
      "outputs": []
    },
    {
      "cell_type": "code",
      "source": [
        "def f1(sigma,t):   # when we use this function, t will go from 1 till 300 (not 0-299)\n",
        "  result = 1\n",
        "  for k in range(20*math.floor((t-1)/20)+1, t+1):  # we want it to go from start ... t, that's why used t+1                  \n",
        "    i = k-1  # id of data point, since k is id+1 (k is in column no.0 which is id+1)\n",
        "    val = math.exp(-df[1][i]*df[1][i] / (2*sigma*sigma))\n",
        "    val = val / (math.sqrt(2*math.pi)*sigma)\n",
        "    result = result * val\n",
        "  return result"
      ],
      "metadata": {
        "id": "PKGBuypdx5QR"
      },
      "execution_count": null,
      "outputs": []
    },
    {
      "cell_type": "code",
      "source": [
        "def f2(t):\n",
        "  result = 1\n",
        "  for k in range(20*math.floor((t-1)/20)+1, t+1):                                   # \n",
        "    i = k-1\n",
        "    val = math.pi*(1 + df[1][i]*df[1][i])\n",
        "    val = 1 / val\n",
        "    result = result * val\n",
        "  return result"
      ],
      "metadata": {
        "id": "iXuezLg9x8eP"
      },
      "execution_count": null,
      "outputs": []
    },
    {
      "cell_type": "code",
      "source": [
        "def m1(t):\n",
        "  val = lambda t : quad(f1, 0.1,2, args=(t,))\n",
        "  ans,err = val(t)\n",
        "  return (1/1.9)*ans"
      ],
      "metadata": {
        "id": "dxLnmvnkx-28"
      },
      "execution_count": null,
      "outputs": []
    },
    {
      "cell_type": "code",
      "source": [
        "def m2(t):\n",
        "  return f2(t)"
      ],
      "metadata": {
        "id": "Ym7H3A6_yAyB"
      },
      "execution_count": null,
      "outputs": []
    },
    {
      "cell_type": "code",
      "source": [
        "Pm1 = 0.5\n",
        "Pm2 = 0.5"
      ],
      "metadata": {
        "id": "9ATqSMmzyDBk"
      },
      "execution_count": null,
      "outputs": []
    },
    {
      "cell_type": "code",
      "source": [
        "def Pm1Xt(t):\n",
        "  val = Pm1 * m1(t)\n",
        "  val = val / (Pm1*m1(t) + Pm2*m2(t))\n",
        "  return val"
      ],
      "metadata": {
        "id": "HkW7JYz7yFJQ"
      },
      "execution_count": null,
      "outputs": []
    },
    {
      "cell_type": "code",
      "source": [
        "def Pm2Xt(t):\n",
        "  val = Pm2 * m2(t)\n",
        "  val = val / (Pm1*m1(t) + Pm2*m2(t))\n",
        "  return val"
      ],
      "metadata": {
        "id": "9q-XnBOZyHUy"
      },
      "execution_count": null,
      "outputs": []
    },
    {
      "cell_type": "markdown",
      "source": [
        "We win 2dollars on winning bet and loss $40 on lossing bet"
      ],
      "metadata": {
        "id": "Pby8ZIhZyLmU"
      }
    },
    {
      "cell_type": "code",
      "source": [
        "def sigmaapprox(t):\n",
        "  start = 20*math.floor((t-1)/20)+1                                                # \n",
        "  end = t\n",
        "  if start==t: \n",
        "    return 0  # no variance if there is only one data point\n",
        "  result = 1 / (end-start+1)\n",
        "  val = 0\n",
        "  for k in range(start,end+1):\n",
        "    i = k-1\n",
        "    val += df[1][i]*df[1][i]\n",
        "  result = result * val\n",
        "  result = math.sqrt(result)\n",
        "  \n",
        "  return result"
      ],
      "metadata": {
        "id": "61HZ1l4TyJSF"
      },
      "execution_count": null,
      "outputs": []
    },
    {
      "cell_type": "code",
      "source": [
        "def pg(t):\n",
        "  sigma = sigmaapprox(t)\n",
        "  if sigma==0:\n",
        "    return 0\n",
        "  def integrand(x):\n",
        "      result = 1 / (sigma*math.sqrt(2*math.pi))\n",
        "      result = result * math.exp(-x*x / (2*sigma*sigma))\n",
        "      return result\n",
        "  phi,err = quad(integrand,-float('inf'),4)\n",
        "  result = 1 - 2*(1-phi)\n",
        "  \n",
        "  return result   "
      ],
      "metadata": {
        "id": "MQcYpMZcyOgw"
      },
      "execution_count": null,
      "outputs": []
    },
    {
      "cell_type": "code",
      "source": [
        "def pc(t):\n",
        "  id = t - 20*math.floor((t-1)/20)  # id goes from 1 ... 20\n",
        "  if t==3:\n",
        "    df[0] = 95\n",
        "    if df[1][t-3]>=-4 and df[1][t-3]<=4: n_array[1] = 94\n",
        "    else: n_array[1] = 95\n",
        "    if df[1][t-2]>=-4 and df[1][t-2]<=4: n_array[2] = n_array[1] - 1\n",
        "    else: n_array[2] = n_array[1]\n",
        "\n",
        "  if df[1][t-1]>=-4 and df[1][t-1]<=4: n = n_array[id-1] - 1\n",
        "  else: n = n_array[id-1]\n",
        "\n",
        "  n_array[id] = n\n",
        "\n",
        "  Pc = n / (100-id)\n",
        "  return Pc  "
      ],
      "metadata": {
        "id": "kqA_DQfSyRNo"
      },
      "execution_count": null,
      "outputs": []
    },
    {
      "cell_type": "code",
      "source": [
        "def compute_expValue(t):\n",
        "  Pc = pc(t)\n",
        "  if t%20==0 or t%20==1: return 0   # t is the first data point of a trial set\n",
        "  Pg = pg(t)\n",
        "  V = Pm1Xt(t-1) * (2*Pg - (1-Pg)*40) + Pm2Xt(t-1) * (2*Pc - (1-Pc)*40)\n",
        "\n",
        "  return V # expected value"
      ],
      "metadata": {
        "id": "HfPampjIyTJL"
      },
      "execution_count": null,
      "outputs": []
    },
    {
      "cell_type": "markdown",
      "source": [
        "We bet on trial t+1 if and only if Vt > 0 "
      ],
      "metadata": {
        "id": "btxY4G52yXvw"
      }
    },
    {
      "cell_type": "code",
      "source": [
        "\n",
        "def predict(start,end):\n",
        "  total = 0\n",
        "  plist = []\n",
        "  for i in range(start,end):\n",
        "    Vt = compute_expValue(i)\n",
        "    if Vt>0:\n",
        "      plist.append(1)\n",
        "      if df[1][i]<=4 and df[1][i]>=-4: \n",
        "        total+=2\n",
        "      else: \n",
        "        total-=40\n",
        "    else: plist.append(0)        \n",
        "  return (plist,total)    "
      ],
      "metadata": {
        "id": "jrbloX_2yVSS"
      },
      "execution_count": null,
      "outputs": []
    },
    {
      "cell_type": "code",
      "source": [
        "plist,total = predict(160,300)\n",
        "\n",
        "print(len(plist))\n",
        "print(total)"
      ],
      "metadata": {
        "id": "rwOq0DjAyaiq"
      },
      "execution_count": null,
      "outputs": []
    },
    {
      "cell_type": "markdown",
      "source": [
        "Now we train the model (the parameter beta)"
      ],
      "metadata": {
        "id": "JS8t_FONyfsx"
      }
    },
    {
      "cell_type": "code",
      "source": [
        "print(plist)"
      ],
      "metadata": {
        "id": "jtsmdLCzycoC"
      },
      "execution_count": null,
      "outputs": []
    },
    {
      "cell_type": "code",
      "source": [
        "Y = df[5]\n",
        "print(Y[0])"
      ],
      "metadata": {
        "id": "JgA8VPmpykCQ"
      },
      "execution_count": null,
      "outputs": []
    },
    {
      "cell_type": "markdown",
      "source": [
        "Checking the Accuracy Score of the Model"
      ],
      "metadata": {
        "id": "uJrHZwB3HdQs"
      }
    },
    {
      "cell_type": "code",
      "source": [
        "total = 0   # Score of the model on the dataset\n",
        "for i in range(0,140):\n",
        "  if (plist[i]==1 and Y[i+160]==1) or (plist[i]==0 and Y[i+160]==0): total+=1\n",
        "print(\"The accuracy score of the base model with Gambler Fallacy is: \",total/140*100,\"%\")  "
      ],
      "metadata": {
        "id": "1fjX2jxWyl67"
      },
      "execution_count": null,
      "outputs": []
    },
    {
      "cell_type": "code",
      "source": [
        ""
      ],
      "metadata": {
        "id": "ZnA5xDTr6-uU"
      },
      "execution_count": null,
      "outputs": []
    }
  ]
}