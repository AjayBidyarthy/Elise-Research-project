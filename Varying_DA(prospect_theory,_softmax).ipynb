{
 "cells": [
  {
   "cell_type": "code",
   "execution_count": 2,
   "metadata": {
    "colab": {
     "base_uri": "https://localhost:8080/"
    },
    "id": "QigeodpCcbCq",
    "outputId": "f23ed19f-a338-4ded-b98d-4e8ef71e949a"
   },
   "outputs": [
    {
     "name": "stdout",
     "output_type": "stream",
     "text": [
      "Requirement already satisfied: xlrd in /usr/local/lib/python3.7/dist-packages (2.0.1)\n"
     ]
    }
   ],
   "source": [
    "!pip install --upgrade xlrd"
   ]
  },
  {
   "cell_type": "code",
   "execution_count": 2,
   "metadata": {
    "id": "IUqzSYv8c471"
   },
   "outputs": [],
   "source": [
    "import pandas as pd\n",
    "import numpy as np\n",
    "import math\n",
    "from scipy.integrate import quad"
   ]
  },
  {
   "cell_type": "code",
   "execution_count": 4,
   "metadata": {
    "colab": {
     "base_uri": "https://localhost:8080/"
    },
    "id": "URlq0c8Xc8H_",
    "outputId": "bf1c8a37-ccf9-4a36-f228-46c40e652c7f"
   },
   "outputs": [
    {
     "name": "stdout",
     "output_type": "stream",
     "text": [
      "Mounted at /content/drive\n"
     ]
    }
   ],
   "source": [
    "from google.colab import drive\n",
    "drive.mount('/content/drive')"
   ]
  },
  {
   "cell_type": "code",
   "execution_count": 3,
   "metadata": {
    "id": "dmQnfUIrc-_I"
   },
   "outputs": [],
   "source": [
    "def f1(sigma,t):   # t is the timestamp\n",
    "  result = 1\n",
    "  for k in range(20*math.floor((t-1)/20)+1, t+1):  # we want it to go from start ... t, that's why used t+1                  \n",
    "    i = k-1  # id of data point, since k is id+1 (k is in column no.0 which is id+1)\n",
    "    val = math.exp(-df[1][i]*df[1][i] / (2*sigma*sigma))\n",
    "    val = val / (math.sqrt(2*math.pi)*sigma)\n",
    "    result = result * val\n",
    "  return result"
   ]
  },
  {
   "cell_type": "code",
   "execution_count": 4,
   "metadata": {
    "id": "DU2bPKezdFru"
   },
   "outputs": [],
   "source": [
    "def f2(t):\n",
    "  result = 1\n",
    "  for k in range(20*math.floor((t-1)/20)+1, t+1):                                   # \n",
    "    i = k-1\n",
    "    val = math.pi*(1 + df[1][i]*df[1][i])\n",
    "    val = 1 / val\n",
    "    result = result * val\n",
    "  return result"
   ]
  },
  {
   "cell_type": "code",
   "execution_count": 5,
   "metadata": {
    "id": "3UgM8vMddGvw"
   },
   "outputs": [],
   "source": [
    "def m1(t):\n",
    "  val = lambda t : quad(f1, 0.1,2, args=(t,))\n",
    "  ans,err = val(t)\n",
    "  return (1/1.9)*ans"
   ]
  },
  {
   "cell_type": "code",
   "execution_count": 6,
   "metadata": {
    "id": "WSxstWXHdJfM"
   },
   "outputs": [],
   "source": [
    "def m2(t):\n",
    "  return f2(t)"
   ]
  },
  {
   "cell_type": "code",
   "execution_count": 7,
   "metadata": {
    "id": "lb0c8cZrdMBj"
   },
   "outputs": [],
   "source": [
    "Pm1 = 0.5\n",
    "Pm2 = 0.5"
   ]
  },
  {
   "cell_type": "code",
   "execution_count": 8,
   "metadata": {
    "id": "NqWH2g_RdQeS"
   },
   "outputs": [],
   "source": [
    "def Pm1Xt(t):\n",
    "  val = Pm1 * m1(t)\n",
    "  val = val / (Pm1*m1(t) + Pm2*m2(t))\n",
    "  return val"
   ]
  },
  {
   "cell_type": "code",
   "execution_count": 9,
   "metadata": {
    "id": "5ygt6x1adTlm"
   },
   "outputs": [],
   "source": [
    "def Pm2Xt(t):\n",
    "  val = Pm2 * m2(t)\n",
    "  val = val / (Pm1*m1(t) + Pm2*m2(t))\n",
    "  return val"
   ]
  },
  {
   "cell_type": "code",
   "execution_count": 10,
   "metadata": {
    "id": "h8M1JQcAdWaS"
   },
   "outputs": [],
   "source": [
    "def sigmaapprox(t):\n",
    "  start = 20*math.floor((t-1)/20)+1                                                 \n",
    "  end = t\n",
    "  if start==t: \n",
    "    return 0  # no variance if there is only one data point\n",
    "  result = 1 / (end-start+1)\n",
    "  val = 0\n",
    "  for k in range(start,end+1):\n",
    "    i = k-1\n",
    "    val += df[1][i]*df[1][i]\n",
    "  result = result * val\n",
    "  result = math.sqrt(result)\n",
    "  \n",
    "  return result"
   ]
  },
  {
   "cell_type": "code",
   "execution_count": 11,
   "metadata": {
    "id": "g5ZuBi_NdclV"
   },
   "outputs": [],
   "source": [
    "def pg(t):\n",
    "  sigma = sigmaapprox(t)\n",
    "  if sigma==0:   # sigma = 0 means that we do not have any data yet to calculate sigma\n",
    "    return 0.0001  # very little probability of hitting target\n",
    "  def integrand(x):\n",
    "      result = 1 / (sigma*math.sqrt(2*math.pi))\n",
    "      result = result * math.exp(-x*x / (2*sigma*sigma))\n",
    "      return result\n",
    "  phi,err = quad(integrand,-float('inf'),-4)\n",
    "  result = 1 - 2*(phi)\n",
    "  if result>=1: \n",
    "    result = 0.999   # near certain of hitting the target\n",
    "  return result "
   ]
  },
  {
   "cell_type": "code",
   "execution_count": 12,
   "metadata": {
    "id": "qnaJB0tSdfVd"
   },
   "outputs": [],
   "source": [
    "def pc():\n",
    "  return 0.844"
   ]
  },
  {
   "cell_type": "code",
   "execution_count": 13,
   "metadata": {
    "id": "WeaMBCASh94w"
   },
   "outputs": [],
   "source": [
    "def Cfunc(theta,t):\n",
    "  C = 0\n",
    "  for i in range(0,t%20):\n",
    "    C+= pow(theta,i)\n",
    "  return C"
   ]
  },
  {
   "cell_type": "code",
   "execution_count": 14,
   "metadata": {
    "id": "MWwBVDYMh-8g"
   },
   "outputs": [],
   "source": [
    "def DAfunc(kappa1 , kappa2 , theta ):\n",
    "  DA_list =[]\n",
    "  C = 0\n",
    "  for i in range(0,20):\n",
    "    if i == 0:\n",
    "      DA_list.append(0)\n",
    "      continue\n",
    "    C = Cfunc(theta,i)\n",
    "    DA_list.append(round(max(0, -kappa2 + 1/(1+math.exp(-kappa1*C))),3))\n",
    "  return DA_list"
   ]
  },
  {
   "cell_type": "code",
   "execution_count": 15,
   "metadata": {
    "id": "IrPl_o6ddjLi"
   },
   "outputs": [],
   "source": [
    "def compute_expValue(DA,beta,alpha1,alpha2,alpha3,lamda,t):\n",
    "  if t%20==0 or t%20==1: return 0   # t is the first or the second data point of a trial set\n",
    "  Pg = pg(t)\n",
    "  Pc = pc()\n",
    "  a = np.exp(-(-math.log(Pg))**alpha3)\n",
    "  b = lamda*np.exp(-(-math.log(1-Pg))**alpha3)\n",
    "  c = np.exp(-(-math.log(Pc))**alpha3)\n",
    "  d = lamda*np.exp(-(-math.log(1-Pc))**alpha3)\n",
    "  V = Pm1Xt(t-1)*(a*pow(2+DA,alpha1) - b*pow(40,alpha2)) + Pm2Xt(t-1)*(c*pow(2+DA,alpha1) - d*pow(40,alpha2))\n",
    "  return V # expected value"
   ]
  },
  {
   "cell_type": "code",
   "execution_count": 16,
   "metadata": {
    "id": "TL3QL_hxdnUX"
   },
   "outputs": [],
   "source": [
    "def predict(DA,beta,alpha1,alpha2,alpha3,lamda,starting,ending):\n",
    "  total = 0\n",
    "  plist = []  # list of outcomes (bet or not bet)\n",
    "  expList = []  # list of expected values for each time stamp\n",
    "  probList = []\n",
    "  probBaseList = []\n",
    "  for i in range(starting,ending): \n",
    "    # i is the time stamp. \n",
    "    Vt = compute_expValue(DA[i%20],beta,alpha1,alpha2,alpha3,lamda,i) # Computing expected value for timestamp i\n",
    "    prob_base = math.exp(beta*Vt) / (1 + math.exp(beta*Vt))\n",
    "    prob = DA[i%20]+(1-DA[i%20])*prob_base\n",
    "    expList.append(Vt)\n",
    "    probBaseList.append(prob_base)\n",
    "    probList.append(prob)\n",
    "    if prob>0.5:\n",
    "      plist.append(1)\n",
    "      if df[1][i]<=4 and df[1][i]>=-4: # in the dataframe, index of data at time i+1 is i\n",
    "        total+=2 \n",
    "      else: \n",
    "        total-=40\n",
    "    else: plist.append(0)        # adding value for timestamp i+1\n",
    "  return (plist,expList,probList,probBaseList,total)   "
   ]
  },
  {
   "cell_type": "code",
   "execution_count": 116,
   "metadata": {
    "id": "v8frWYyYdr9U"
   },
   "outputs": [],
   "source": [
    "df = pd.read_excel(r'C:\\Users\\Hitanshee\\OneDrive\\Documents\\BlackcofferFiles\\DATA_AJAY\\DATA_AJAY\\DATA2\\DATA_Experiment3\\8.xls',sheet_name='results',header=None)\n",
    "df\n",
    "Y = df[4]"
   ]
  },
  {
   "cell_type": "code",
   "execution_count": 18,
   "metadata": {
    "id": "zD1Py2HL-gpe"
   },
   "outputs": [],
   "source": [
    "def d_C(theta, t):\n",
    "  C = 0\n",
    "  for i in range(1,t%20+1):\n",
    "    C += i*pow(theta,i-1)\n",
    "  return C"
   ]
  },
  {
   "cell_type": "code",
   "execution_count": 19,
   "metadata": {
    "id": "92h93UwDduxB"
   },
   "outputs": [],
   "source": [
    "def derivative_cost_function(kappa1,kappa2,theta,beta,alpha1,alpha2,alpha3,lamda):  # gradient of cost function (used in gradient descent)\n",
    "  G_a1 = 0   # total gradient \n",
    "  G_a2 = 0\n",
    "  G_a3 = 0\n",
    "  G_L = 0\n",
    "  G_k1 = 0\n",
    "  G_k2 = 0\n",
    "  G_t = 0\n",
    "  G_b = 0\n",
    "  plist,expList,probList,probBaseList,total = predict(DAfunc(kappa1,kappa2,theta),beta,alpha1,alpha2,alpha3,lamda,0,160)\n",
    "  DA = DAfunc(kappa1,kappa2,theta)\n",
    "  for i in range(1,160):  \n",
    "    if (i+1)%20<5: continue\n",
    "    pm1 = Pm1Xt(i-1)\n",
    "    pm2 = Pm2Xt(i-1)\n",
    "    Pg = pg(i)\n",
    "    Pc = pc()\n",
    "    C = Cfunc(theta,i)\n",
    "    d_a1 = pm1*(np.exp(-(-math.log(Pg))**alpha3)*(2+DA[i%20])**alpha1*math.log(2+DA[i%20])) + pm2*(np.exp(-(-math.log(Pc))**alpha3)*(2+DA[i%20])**alpha1*math.log(2+DA[i%20]))          #Derivative(V,a1)\n",
    "    d_a2 = -pm1*lamda*(np.exp(-(-math.log(1-Pg))**alpha3)*40**alpha2) - pm2*lamda*(np.exp(-(-math.log(1-Pc))**alpha3)*40**alpha2)\n",
    "    d_a3 = pm1*(-(-math.log(Pg))**alpha3*math.log(-math.log(Pg))*np.exp(-(-math.log(Pg))**alpha3)*(2+DA[i%20])**alpha1 + lamda*(-math.log(1-Pg))**alpha3*math.log(-math.log(1-Pg))*np.exp(-(-math.log(1-Pg))**alpha3)*40**alpha2) + pm2*(-(-math.log(Pc))**alpha3*math.log(-math.log(Pc))*np.exp(-(-math.log(Pc))**alpha3)*(2+DA[i%20])**alpha1 + lamda*(-math.log(1-Pc))**alpha3*math.log(-math.log(1-Pc))*np.exp(-(-math.log(1-Pc))**alpha3)*40**alpha2)\n",
    "    d_L = pm1*np.exp(-(-math.log(1-Pg))**alpha3)*40**alpha2 + pm2*np.exp(-(-math.log(1-Pc))**alpha3)*40**alpha2\n",
    "    d_k1 = (pg(i-1)*Pm1Xt(i-2) + pc()*Pm2Xt(i-2))*((C*math.exp(-kappa1*C))/((1+math.exp(-kappa1*C))*(1+math.exp(-kappa1*C))))\n",
    "    d_k2 = (pg(i-1)*Pm1Xt(i-2) + pc()*Pm2Xt(i-2))*(-1)\n",
    "    d_t = (pg(i-1)*Pm1Xt(i-2) + pc()*Pm2Xt(i-2))*((kappa1*math.exp(-kappa1*C))/((1+math.exp(-kappa1*C))*(1+math.exp(-kappa1*C))))*d_C(theta,i)\n",
    "\n",
    "    G_a1 += (probList[i]-Y[i])*beta*d_a1/160\n",
    "    G_a2 += (probList[i]-Y[i])*beta*d_a2/160\n",
    "    G_a3 += (probList[i]-Y[i])*beta*d_a3/160\n",
    "    G_L += (probList[i]-Y[i])*beta*d_L/160\n",
    "    G_k1 += (probList[i]-Y[i])*beta*d_k1\n",
    "    G_k2 += (probList[i]-Y[i])*beta*d_k2\n",
    "    G_t += (probList[i]-Y[i])*beta*d_t\n",
    "    G_b += (probList[i]-Y[i])/(probList[i]*(1-probList[i]))*(1-DA[i%20])*probBaseList[i]*(1-probBaseList[i])*compute_expValue(DA[i%20],beta,alpha1,alpha2,alpha3,lamda,i)\n",
    "  \n",
    "  G_a1 /= 160\n",
    "  G_a2 /= 160\n",
    "  G_a3 /= 160\n",
    "  G_L /= 160 \n",
    "  G_k1 /= 160\n",
    "  G_k2 /= 160\n",
    "  G_t /= 160\n",
    "  G_b /=160\n",
    "  return (G_k1,G_k2,G_t,G_b,G_a1,G_a2,G_a3,G_L)"
   ]
  },
  {
   "cell_type": "code",
   "execution_count": 117,
   "metadata": {
    "colab": {
     "base_uri": "https://localhost:8080/"
    },
    "id": "RklWWnNXiLEm",
    "outputId": "882ea124-efc7-43c4-bd19-e6b89ec62073"
   },
   "outputs": [
    {
     "name": "stdout",
     "output_type": "stream",
     "text": [
      "1kappa1, kappa2, theta, beta:  0.4904939811809482 0.7407828783036677 0.8794279870244408 0.9518145207494326\n",
      "alpha1, alpha2, alpha3, lamda:  0.9995319722584527 1 0.9993593581397814 1.01\n",
      "2kappa1, kappa2, theta, beta:  0.48022002815928866 0.777202609385828 0.8576727313199528 0.9067619353281067\n",
      "alpha1, alpha2, alpha3, lamda:  0.9991357194084232 1 0.9988334850416467 1.0095934087798435\n",
      "3kappa1, kappa2, theta, beta:  0.4693086160875396 0.809688985957326 0.8354975669514275 0.8646291246210448\n",
      "alpha1, alpha2, alpha3, lamda:  0.9988009155149937 1 0.9984137484154141 1.009271872784887\n",
      "4kappa1, kappa2, theta, beta:  0.4580822766685554 0.8385705770445616 0.8139314930066432 0.8253542070493993\n",
      "alpha1, alpha2, alpha3, lamda:  0.998519286813812 1 0.9980886039814193 1.0090263783339848\n",
      "5kappa1, kappa2, theta, beta:  0.4468616763622877 0.864344263325536 0.7937926380298775 0.788762836775458\n",
      "alpha1, alpha2, alpha3, lamda:  0.9982809109375382 1 0.9978415035888374 1.0088439215587566\n",
      "6kappa1, kappa2, theta, beta:  0.4358911866303321 0.8875543584593836 0.7754843156316547 0.7545606319593106\n",
      "alpha1, alpha2, alpha3, lamda:  0.9980757162642518 1 0.9976542046008932 1.0087099483933781\n",
      "7kappa1, kappa2, theta, beta:  0.42507237076052323 0.9091738761474731 0.7586524403586654 0.7220013299554651\n",
      "alpha1, alpha2, alpha3, lamda:  0.9978880613278046 1 0.9974902013670507 1.0085937811546726\n",
      "8kappa1, kappa2, theta, beta:  0.414349740200529 0.9297630373434038 0.7430232956838501 0.6906400903468254\n",
      "alpha1, alpha2, alpha3, lamda:  0.9977093801010289 1 0.9973283155744264 1.0084785071290678\n",
      "9kappa1, kappa2, theta, beta:  0.4038436076661951 0.9493760429698469 0.7286482473510618 0.6605468615845974\n",
      "alpha1, alpha2, alpha3, lamda:  0.9975391983810586 1 0.9971681696950592 1.0083638563123287\n",
      "10kappa1, kappa2, theta, beta:  0.3936342209171693 0.9680678626566298 0.7154988112182427 0.6317877736004999\n",
      "alpha1, alpha2, alpha3, lamda:  0.997377035697614 1 0.9970094237972518 1.0082495902512096\n",
      "11kappa1, kappa2, theta, beta:  0.38376914602750617 0.9858938286626326 0.7035007875000223 0.6044228719765499\n",
      "alpha1, alpha2, alpha3, lamda:  0.99722240881381 1 0.9968517819805092 1.0081355070168938\n",
      "kappa1, kappa2, theta, beta:  0.374271492230354 0.99 0.6925584103268573 0.578503787057815\n",
      "alpha1, alpha2, alpha3, lamda:  0.9970748353592703 1 0.9966949968015727 1.0080214445304314\n"
     ]
    }
   ],
   "source": [
    "kappa1 = 0.5\n",
    "kappa2 = 0.7\n",
    "theta = 0.9\n",
    "beta = 1\n",
    "alpha1,alpha2,alpha3,lamda = 1.0,1.0,1.0,1.0\n",
    "alpha = 0.1\n",
    "i = 0\n",
    "while True:\n",
    "  if i==100: break\n",
    "  if i==0:\n",
    "    pre_k2,pre_beta,pre_a1,pre_a2,pre_a3,pre_L = kappa2,beta,alpha1,alpha2,alpha3,lamda\n",
    "    i+=1\n",
    "  else:\n",
    "    G_k1,G_k2,G_t,G_b,G_a1,G_a2,G_a3,G_L = derivative_cost_function(kappa1,kappa2,theta,beta,alpha1,alpha2,alpha3,lamda)\n",
    "    temp1 = kappa1 - alpha*G_k1\n",
    "    temp2 = kappa2 - alpha*G_k2\n",
    "    temp3 = theta - alpha*G_t\n",
    "    beta = beta - alpha*G_b\n",
    "    temp4 = alpha1 - alpha*G_a1\n",
    "    temp5 = alpha2 - alpha*G_a2\n",
    "    temp6 = alpha3 - alpha*G_a3\n",
    "    temp7 = lamda - alpha*G_L\n",
    "    kappa1,kappa2, theta = temp1,temp2,temp3\n",
    "    alpha1,alpha2,alpha3,lamda = temp4,temp5,temp6,temp7\n",
    "    if alpha1>1: alpha1 = 1\n",
    "    if alpha2>1: alpha2 = 1\n",
    "    if alpha3>1: alpha3 = 1\n",
    "    if lamda<=1: lamda = 1.01\n",
    "    if kappa1>1: kappa1 = 0.99\n",
    "    if kappa1<0.1: kappa1 = 0.1\n",
    "    if theta>1: theta = 0.99\n",
    "    if theta<0.5: \n",
    "      theta = 0.5\n",
    "      break\n",
    "    if kappa2<0.2: kappa2 = 0.2\n",
    "    if kappa2 > 1: \n",
    "      kappa2 = 0.99\n",
    "      break\n",
    "    if beta<0: beta = 0.1\n",
    "    if abs(kappa2-pre_k2)<1e-3 and abs(beta-pre_beta)<1e-3: break\n",
    "    else: \n",
    "      pre_k2,pre_beta,pre_a1,pre_a2,pre_a3,pre_L = kappa2,beta,alpha1,alpha2,alpha3,lamda\n",
    "      pre_k2 = kappa2\n",
    "    # abs(alpha1-pre_a1)<1e-3 or abs(alpha2-pre_a2)<1e-3 or abs(alpha3-pre_a3)<1e-3 or abs(lamda-pre_L)<1e-3 \n",
    "    print(str(i)+\"kappa1, kappa2, theta, beta: \",kappa1,kappa2,theta,beta)\n",
    "    print(\"alpha1, alpha2, alpha3, lamda: \",alpha1,alpha2,alpha3,lamda)\n",
    "    i+=1\n",
    "print(\"kappa1, kappa2, theta, beta: \",kappa1,kappa2,theta,beta)\n",
    "print(\"alpha1, alpha2, alpha3, lamda: \",alpha1,alpha2,alpha3,lamda)"
   ]
  },
  {
   "cell_type": "code",
   "execution_count": null,
   "metadata": {
    "id": "dTctSz6ad0uM"
   },
   "outputs": [],
   "source": [
    "plist,expList,probList,probBaseList,total = predict(DAfunc(kappa1,kappa2,theta),beta,alpha1,alpha2,alpha3,lamda,160,300)   # prediction\n",
    "\n",
    "print(len(plist))\n",
    "print(total)"
   ]
  },
  {
   "cell_type": "code",
   "execution_count": null,
   "metadata": {
    "id": "3YTo2EGaf9lj"
   },
   "outputs": [],
   "source": [
    "total = 0\n",
    "for i in range(0,140):  # we will have to change it to (0,160) when the dataset has a length of 320\n",
    "  if (plist[i]==0 and Y[i+160]==0) or (plist[i]==1 and Y[i+160]==1): total+=1\n",
    "print(\"The accuracy score of the base model with CbD is: \",total/140*100,\"%\")   # similarly here 140 -> 160"
   ]
  }
 ],
 "metadata": {
  "colab": {
   "name": "Varying_DA(prospect theory, softmax).ipynb",
   "provenance": []
  },
  "kernelspec": {
   "display_name": "Python 3",
   "language": "python",
   "name": "python3"
  },
  "language_info": {
   "codemirror_mode": {
    "name": "ipython",
    "version": 3
   },
   "file_extension": ".py",
   "mimetype": "text/x-python",
   "name": "python",
   "nbconvert_exporter": "python",
   "pygments_lexer": "ipython3",
   "version": "3.8.3"
  }
 },
 "nbformat": 4,
 "nbformat_minor": 1
}
