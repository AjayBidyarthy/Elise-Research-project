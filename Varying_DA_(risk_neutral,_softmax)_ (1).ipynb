{
  "cells": [
    {
      "cell_type": "code",
      "execution_count": null,
      "metadata": {
        "id": "5_6A7f1bv-X3"
      },
      "outputs": [],
      "source": [
        "!pip install --upgrade xlrd"
      ]
    },
    {
      "cell_type": "code",
      "execution_count": null,
      "metadata": {
        "id": "fDFk0wotUCbV"
      },
      "outputs": [],
      "source": [
        "import pandas as pd\n",
        "import numpy as np\n",
        "import math\n",
        "from scipy.integrate import quad"
      ]
    },
    {
      "cell_type": "code",
      "execution_count": null,
      "metadata": {
        "id": "lCmSWlUlUFVJ"
      },
      "outputs": [],
      "source": [
        "from google.colab import drive\n",
        "drive.mount('/content/drive')"
      ]
    },
    {
      "cell_type": "code",
      "execution_count": null,
      "metadata": {
        "id": "eUVm6oFmUIDY"
      },
      "outputs": [],
      "source": [
        "df = pd.read_excel(r'/content/drive/MyDrive/Blackcoffer_Files/Datasets/DATA2/DATA_Experiment3/42.xls',sheet_name='results',header=None)\n",
        "df"
      ]
    },
    {
      "cell_type": "code",
      "execution_count": null,
      "metadata": {
        "id": "h_hVd9c_UdJf"
      },
      "outputs": [],
      "source": [
        "def f1(sigma,t):   # when we use this function, t will go from 1 till 300 (not 0-299)\n",
        "  result = 1\n",
        "  for k in range(20*math.floor((t-1)/20)+1, t+1):  # we want it to go from start ... t, that's why used t+1                  \n",
        "    i = k-1  # id of data point, since k is id+1 (k is in column no.0 which is id+1)\n",
        "    val = math.exp(-df[1][i]*df[1][i] / (2*sigma*sigma))\n",
        "    val = val / (math.sqrt(2*math.pi)*sigma)\n",
        "    result = result * val\n",
        "  return result"
      ]
    },
    {
      "cell_type": "code",
      "execution_count": null,
      "metadata": {
        "id": "4Gvekp2-UjPO"
      },
      "outputs": [],
      "source": [
        "def f2(t):\n",
        "  result = 1\n",
        "  for k in range(20*math.floor((t-1)/20)+1, t+1):                                   # \n",
        "    i = k-1\n",
        "    val = math.pi*(1 + df[1][i]*df[1][i])\n",
        "    val = 1 / val\n",
        "    result = result * val\n",
        "  return result"
      ]
    },
    {
      "cell_type": "code",
      "execution_count": null,
      "metadata": {
        "id": "Eyx9h0cnUnKM"
      },
      "outputs": [],
      "source": [
        "def m1(t):\n",
        "  val = lambda t : quad(f1, 0.1,2, args=(t,))\n",
        "  ans,err = val(t)\n",
        "  return (1/1.9)*ans"
      ]
    },
    {
      "cell_type": "code",
      "execution_count": null,
      "metadata": {
        "id": "IzM0GwjEUqUV"
      },
      "outputs": [],
      "source": [
        "def m2(t):\n",
        "  return f2(t)"
      ]
    },
    {
      "cell_type": "code",
      "execution_count": null,
      "metadata": {
        "id": "3J5qnRvIUs77"
      },
      "outputs": [],
      "source": [
        "Pm1 = 0.5\n",
        "Pm2 = 0.5"
      ]
    },
    {
      "cell_type": "code",
      "execution_count": null,
      "metadata": {
        "id": "TqKXoQ7RUvXp"
      },
      "outputs": [],
      "source": [
        "def Pm1Xt(t):\n",
        "  val = Pm1 * m1(t)\n",
        "  val = val / (Pm1*m1(t) + Pm2*m2(t))\n",
        "  return val"
      ]
    },
    {
      "cell_type": "code",
      "execution_count": null,
      "metadata": {
        "id": "XrW-oIGUUyEt"
      },
      "outputs": [],
      "source": [
        "def Pm2Xt(t):\n",
        "  val = Pm2 * m2(t)\n",
        "  val = val / (Pm1*m1(t) + Pm2*m2(t))\n",
        "  return val"
      ]
    },
    {
      "cell_type": "code",
      "execution_count": null,
      "metadata": {
        "id": "XJqEDZrfVinc"
      },
      "outputs": [],
      "source": [
        "def sigmaapprox(t):\n",
        "  start = 20*math.floor((t-1)/20)+1                                                 \n",
        "  end = t\n",
        "  if start==t: \n",
        "    return 0  # no variance if there is only one data point\n",
        "  result = 1 / (end-start+1)\n",
        "  val = 0\n",
        "  for k in range(start,end+1):\n",
        "    i = k-1\n",
        "    val += df[1][i]*df[1][i]\n",
        "  result = result * val\n",
        "  result = math.sqrt(result)\n",
        "  \n",
        "  return result"
      ]
    },
    {
      "cell_type": "code",
      "execution_count": null,
      "metadata": {
        "id": "Cv8sO2tXVme6"
      },
      "outputs": [],
      "source": [
        "def pg(t):\n",
        "  sigma = sigmaapprox(t)\n",
        "  if sigma==0:\n",
        "    return 0\n",
        "  def integrand(x):\n",
        "      result = 1 / (sigma*math.sqrt(2*math.pi))\n",
        "      result = result * math.exp(-x*x / (2*sigma*sigma))\n",
        "      return result\n",
        "  phi,err = quad(integrand,-float('inf'),4)\n",
        "  result = 1 - 2*(1-phi)\n",
        "  \n",
        "  return result  "
      ]
    },
    {
      "cell_type": "code",
      "execution_count": null,
      "metadata": {
        "id": "kt_ZdVWsVndc"
      },
      "outputs": [],
      "source": [
        "def pc():\n",
        "  return 0.844"
      ]
    },
    {
      "cell_type": "code",
      "execution_count": null,
      "metadata": {
        "id": "elCFCa55WY59"
      },
      "outputs": [],
      "source": [
        "def Cfunc(theta,t):\n",
        "  C = 0\n",
        "  for i in range(0,t%20):\n",
        "    C+= pow(theta,i)\n",
        "  return C"
      ]
    },
    {
      "cell_type": "code",
      "execution_count": null,
      "metadata": {
        "id": "toGzpEuIWbvd"
      },
      "outputs": [],
      "source": [
        "def DAfunc(kappa1 , kappa2 , theta ):\n",
        "  DA_list =[]\n",
        "  C = 0\n",
        "  for i in range(0,20):\n",
        "    if i == 0:\n",
        "      DA_list.append(0)\n",
        "      continue\n",
        "    C = Cfunc(theta,i)\n",
        "    DA_list.append(round(max(0, -kappa2 + 1/(1+math.exp(-kappa1*C))),3))\n",
        "  return DA_list"
      ]
    },
    {
      "cell_type": "code",
      "execution_count": null,
      "metadata": {
        "id": "_43fHAQMVp7s"
      },
      "outputs": [],
      "source": [
        "def compute_expValue(DA, t):\n",
        "  if t%20==0 or t%20==1: return 0   # t is the first or the last data point of a trial set\n",
        "  Pg = pg(t)\n",
        "  Pc = pc()\n",
        "  V = Pm1Xt(t-1)*((2+DA)*Pg - (1-Pg)*40) + Pm2Xt(t-1)*((2+DA)*Pc-(1-Pc)*40)\n",
        "  return V # expected value"
      ]
    },
    {
      "cell_type": "markdown",
      "metadata": {
        "id": "KMBC9V55Vs-S"
      },
      "source": [
        "We bet on trial t+1 if and only if Vt > 0"
      ]
    },
    {
      "cell_type": "code",
      "execution_count": null,
      "metadata": {
        "id": "2Qe-EhpgWQNO"
      },
      "outputs": [],
      "source": [
        "def predict(start,end,DA,beta):\n",
        "  total = 0\n",
        "  plist = []\n",
        "  #explist = []\n",
        "  probBaseList = []\n",
        "  probList = []\n",
        "  for i in range(start,end):\n",
        "    # i is the time stamp\n",
        "    Vt = compute_expValue(DA[i%20],i)\n",
        "    #explist.append(Vt)\n",
        "    prob_base = math.exp(beta*Vt) / (1 + math.exp(beta*Vt))\n",
        "    prob = DA[i%20]+(1-DA[i%20])*prob_base\n",
        "    probBaseList.append(prob_base)\n",
        "    probList.append(prob)\n",
        "    if prob>0.5:\n",
        "      plist.append(1)\n",
        "      if df[1][i]<=4 and df[1][i]>=-4: \n",
        "        total+=2\n",
        "      else: \n",
        "        total-=40\n",
        "    else: plist.append(0)        \n",
        "  return plist,probBaseList,probList,total"
      ]
    },
    {
      "cell_type": "markdown",
      "metadata": {
        "id": "LVmdBZ8vcrou"
      },
      "source": [
        "Now we train the model (the free parameters kappa1, kappa2, beta)"
      ]
    },
    {
      "cell_type": "code",
      "execution_count": null,
      "metadata": {
        "id": "Bd55KNvAWTrO"
      },
      "outputs": [],
      "source": [
        "Y = df[5]#df[4] for samples 40-124-Experiment1"
      ]
    },
    {
      "cell_type": "code",
      "execution_count": null,
      "metadata": {
        "id": "bC9dKSJBdEDi"
      },
      "outputs": [],
      "source": [
        "def gradient_cost_func(kappa1,kappa2,theta,beta):\n",
        "  grad_k1 = 0\n",
        "  grad_k2 = 0\n",
        "  grad_beta = 0\n",
        "  DA = DAfunc(kappa1,kappa2,theta)\n",
        "  plist,probBaseList,probList,total = predict(0,160,DA,beta)\n",
        "  for i in range(3,160):\n",
        "    C = Cfunc(theta,i)\n",
        "    if i%20<5: continue\n",
        "    grad_k1 += ((probList[i]-Y[i])*((C*math.exp(-kappa1*C))/((1+math.exp(-kappa1*C))*(1+math.exp(-kappa1*C)))))/(probList[i]*(1-probList[i]))*(1-probBaseList[i])\n",
        "    grad_k2 += ((probList[i]-Y[i])*(-1))/(probList[i]*(1-probList[i]))*(1-probBaseList[i])\n",
        "    grad_beta += (probList[i]-Y[i])/(probList[i]*(1-probList[i]))*(1-DA[i%20])*probBaseList[i]*(1-probBaseList[i])*compute_expValue(DA[i%20],i)\n",
        "  \n",
        "  grad_k1/=160 \n",
        "  grad_k2/=160\n",
        "  grad_beta/=160 \n",
        "  return (grad_k1, grad_k2,grad_beta)"
      ]
    },
    {
      "cell_type": "code",
      "execution_count": null,
      "metadata": {
        "id": "Fyoju1AUdFPC"
      },
      "outputs": [],
      "source": [
        "kappa1 = 0.5\n",
        "kappa2 = 0.5\n",
        "theta = 0.9\n",
        "beta = 1\n",
        "learning_rate = 0.1  # learning rate\n",
        "i = 0\n",
        "while True:\n",
        "  if i==100: break\n",
        "  \n",
        "  if i==0:\n",
        "    pre_k1,pre_k2,pre_beta = kappa1,kappa2,beta\n",
        "    i+=1\n",
        "  else:\n",
        "    G_k1,G_k2,grad_beta = gradient_cost_func(kappa1,kappa2,theta,beta)\n",
        "    temp1 = kappa1 - learning_rate*G_k1\n",
        "    temp2 = kappa2 - learning_rate*G_k2\n",
        "    temp3 = beta - learning_rate*grad_beta\n",
        "    kappa1,kappa2,beta = temp1,temp2,temp3\n",
        "    if kappa1>1: kappa1 = 0.99\n",
        "    if kappa1<0.1: kappa1 = 0.1\n",
        "    if kappa2<0.2: kappa2 = 0.2\n",
        "    if kappa2 > 1: \n",
        "      kappa2 = 0.99\n",
        "      break\n",
        "    if beta<0: beta = 0.1\n",
        "    if abs(kappa2-pre_k2)<1e-3 and abs(beta-pre_beta)<1e-3: break\n",
        "    else: \n",
        "      pre_beta = beta\n",
        "      pre_k2 = kappa2\n",
        "    print(str(i)+\". kappa1, kappa2, beta: \",kappa1,kappa2,beta)\n",
        "    i+=1    \n",
        "\n",
        "print(\"kappa1, kappa2, beta: \",kappa1,kappa2,beta)"
      ]
    },
    {
      "cell_type": "code",
      "execution_count": null,
      "metadata": {
        "id": "tAaat_w9dLSX"
      },
      "outputs": [],
      "source": [
        "plist,probBaseList,probList,total = predict(160,300,DAfunc(kappa1, 0.8, theta),beta)\n",
        "print(len(plist))\n",
        "print(total)"
      ]
    },
    {
      "cell_type": "code",
      "execution_count": null,
      "metadata": {
        "id": "pHpsFTPddPuN"
      },
      "outputs": [],
      "source": [
        "total = 0\n",
        "for i in range(0,140):\n",
        "  if (plist[i]==0 and Y[i+160]==0) or (plist[i]==1 and Y[i+160]==1): total+=1\n",
        "print(\"The accuracy score of the model is: \",total/140*100,\"%\")"
      ]
    }
  ],
  "metadata": {
    "colab": {
      "name": "Varying DA (risk neutral, softmax) .ipynb",
      "provenance": [],
      "collapsed_sections": [],
      "private_outputs": true
    },
    "kernelspec": {
      "display_name": "Python 3",
      "name": "python3"
    },
    "language_info": {
      "name": "python"
    }
  },
  "nbformat": 4,
  "nbformat_minor": 0
}